{
 "cells": [
  {
   "cell_type": "markdown",
   "id": "c855a4da",
   "metadata": {},
   "source": [
    "# Python Data Structure Exercises - 4"
   ]
  },
  {
   "cell_type": "code",
   "execution_count": 10,
   "id": "5ceec588",
   "metadata": {},
   "outputs": [],
   "source": [
    "import sys\n",
    "import numpy as np\n",
    "import matplotlib.pyplot as plt"
   ]
  },
  {
   "cell_type": "markdown",
   "id": "40f338ea",
   "metadata": {},
   "source": [
    "## Exercise 1\n",
    "    Write a function which can accept a sequence and return sum of sequence.\n",
    "    Give a big-Oh characterization, in terms of n, of the running time of the function."
   ]
  },
  {
   "cell_type": "code",
   "execution_count": 9,
   "id": "82e7eda9",
   "metadata": {},
   "outputs": [],
   "source": []
  },
  {
   "cell_type": "code",
   "execution_count": null,
   "id": "6556fe48",
   "metadata": {},
   "outputs": [],
   "source": []
  },
  {
   "cell_type": "markdown",
   "id": "f398e3ab",
   "metadata": {},
   "source": [
    "## Exercise 2\n",
    "    Describe a recursive algorithm for finding the maximum element in a sequence S, of n elements. What is your running time and space usage?"
   ]
  },
  {
   "cell_type": "code",
   "execution_count": null,
   "id": "20b86e4d",
   "metadata": {},
   "outputs": [],
   "source": []
  },
  {
   "cell_type": "code",
   "execution_count": null,
   "id": "4a49c578",
   "metadata": {},
   "outputs": [],
   "source": []
  },
  {
   "cell_type": "markdown",
   "id": "5ab18ae8",
   "metadata": {},
   "source": [
    "## Exercise 3\n",
    "    Use recursion to write a Python function for determining if a string s has more vowels than consonants."
   ]
  },
  {
   "cell_type": "code",
   "execution_count": null,
   "id": "2316a2a3",
   "metadata": {},
   "outputs": [],
   "source": []
  },
  {
   "cell_type": "code",
   "execution_count": null,
   "id": "1801ac40",
   "metadata": {},
   "outputs": [],
   "source": []
  },
  {
   "cell_type": "code",
   "execution_count": null,
   "id": "79f85834",
   "metadata": {},
   "outputs": [],
   "source": []
  },
  {
   "cell_type": "markdown",
   "id": "f8c87433",
   "metadata": {},
   "source": [
    "## Exercise 4\n",
    "    What values are returned during the following series of stack operations, if executed upon an initially empty stack?\n",
    "\n",
    "    push(5), push(3), pop(), push(2), push(8), pop(), pop(), push(9), push(1), pop(), push(7), push(6), pop(), pop(), push(4), pop(), pop()\n",
    "    \n",
    "    "
   ]
  },
  {
   "cell_type": "code",
   "execution_count": 11,
   "id": "7bbcfe3c",
   "metadata": {},
   "outputs": [],
   "source": [
    "class Empty(Exception):\n",
    "    pass"
   ]
  },
  {
   "cell_type": "code",
   "execution_count": 12,
   "id": "3c11e333",
   "metadata": {},
   "outputs": [],
   "source": [
    "class ArrayStack:\n",
    "    \"\"\"LIFO Stack implementatino using a Python list as underlying storage.\"\"\"\n",
    "    \n",
    "    def __init__(self):\n",
    "        self._data = []\n",
    "        \n",
    "    def __len__(self):\n",
    "        return len(self._data)\n",
    "    \n",
    "    def is_empty(self):\n",
    "        return len(self._data) == 0\n",
    "    \n",
    "    def push(self, e):\n",
    "        self._data.append(e)\n",
    "        \n",
    "    def top(self):\n",
    "        if self.is_empty():\n",
    "            raise Empty('Stack is empty')\n",
    "        return self._data[-1]\n",
    "    \n",
    "    def pop(self):\n",
    "        if self.is_empty():\n",
    "            raise Empty('Stack is empty')\n",
    "        return self._data.pop()"
   ]
  },
  {
   "cell_type": "code",
   "execution_count": null,
   "id": "2564402d",
   "metadata": {},
   "outputs": [],
   "source": []
  },
  {
   "cell_type": "code",
   "execution_count": null,
   "id": "db6122ea",
   "metadata": {},
   "outputs": [],
   "source": []
  },
  {
   "cell_type": "markdown",
   "id": "92777b55",
   "metadata": {},
   "source": [
    "## Exercise 5\n",
    "\n",
    "    Write a Python program to create a queue and display all the members and size of the queue. \n",
    "    \n",
    "    you need to store values - 0,1,2,3 in the queue.\n",
    "    \n",
    "   **Expected Output**\n",
    "    \n",
    "    Members of the queue:\n",
    "    0 1 2 3\n",
    "    Size of the queue:\n",
    "    4"
   ]
  },
  {
   "cell_type": "code",
   "execution_count": null,
   "id": "24365c26",
   "metadata": {},
   "outputs": [],
   "source": []
  }
 ],
 "metadata": {
  "kernelspec": {
   "display_name": "Python 3",
   "language": "python",
   "name": "python3"
  },
  "language_info": {
   "codemirror_mode": {
    "name": "ipython",
    "version": 3
   },
   "file_extension": ".py",
   "mimetype": "text/x-python",
   "name": "python",
   "nbconvert_exporter": "python",
   "pygments_lexer": "ipython3",
   "version": "3.8.8"
  }
 },
 "nbformat": 4,
 "nbformat_minor": 5
}
