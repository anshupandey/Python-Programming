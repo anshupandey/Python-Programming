{
  "nbformat": 4,
  "nbformat_minor": 5,
  "metadata": {
    "kernelspec": {
      "display_name": "Python 3",
      "language": "python",
      "name": "python3"
    },
    "language_info": {
      "codemirror_mode": {
        "name": "ipython",
        "version": 3
      },
      "file_extension": ".py",
      "mimetype": "text/x-python",
      "name": "python",
      "nbconvert_exporter": "python",
      "pygments_lexer": "ipython3",
      "version": "3.8.8"
    },
    "colab": {
      "name": "Python_Data_Structure_Exercise_4.ipynb",
      "provenance": [],
      "include_colab_link": true
    }
  },
  "cells": [
    {
      "cell_type": "markdown",
      "metadata": {
        "id": "view-in-github",
        "colab_type": "text"
      },
      "source": [
        "<a href=\"https://colab.research.google.com/github/anshupandey/Python-Programming/blob/main/Python_Data_Structure_Exercise_4.ipynb\" target=\"_parent\"><img src=\"https://colab.research.google.com/assets/colab-badge.svg\" alt=\"Open In Colab\"/></a>"
      ]
    },
    {
      "cell_type": "markdown",
      "metadata": {
        "id": "c855a4da"
      },
      "source": [
        "# Python Data Structure Exercises - 4"
      ],
      "id": "c855a4da"
    },
    {
      "cell_type": "code",
      "metadata": {
        "id": "5ceec588"
      },
      "source": [
        "import sys\n",
        "import numpy as np\n",
        "import matplotlib.pyplot as plt"
      ],
      "id": "5ceec588",
      "execution_count": null,
      "outputs": []
    },
    {
      "cell_type": "markdown",
      "metadata": {
        "id": "40f338ea"
      },
      "source": [
        "## Exercise 1\n",
        "    Write a function which can accept a sequence and return sum of sequence.\n",
        "    Give a big-Oh characterization, in terms of n, of the running time of the function."
      ],
      "id": "40f338ea"
    },
    {
      "cell_type": "code",
      "metadata": {
        "id": "82e7eda9"
      },
      "source": [
        ""
      ],
      "id": "82e7eda9",
      "execution_count": null,
      "outputs": []
    },
    {
      "cell_type": "code",
      "metadata": {
        "id": "6556fe48"
      },
      "source": [
        ""
      ],
      "id": "6556fe48",
      "execution_count": null,
      "outputs": []
    },
    {
      "cell_type": "markdown",
      "metadata": {
        "id": "f398e3ab"
      },
      "source": [
        "## Exercise 2\n",
        "    Describe a recursive algorithm for finding the maximum element in a sequence S, of n elements. What is your running time and space usage?"
      ],
      "id": "f398e3ab"
    },
    {
      "cell_type": "code",
      "metadata": {
        "id": "20b86e4d"
      },
      "source": [
        ""
      ],
      "id": "20b86e4d",
      "execution_count": null,
      "outputs": []
    },
    {
      "cell_type": "code",
      "metadata": {
        "id": "4a49c578"
      },
      "source": [
        ""
      ],
      "id": "4a49c578",
      "execution_count": null,
      "outputs": []
    },
    {
      "cell_type": "markdown",
      "metadata": {
        "id": "5ab18ae8"
      },
      "source": [
        "## Exercise 3\n",
        "    Use recursion to write a Python function for determining if a string s has more vowels than consonants."
      ],
      "id": "5ab18ae8"
    },
    {
      "cell_type": "code",
      "metadata": {
        "id": "2316a2a3"
      },
      "source": [
        ""
      ],
      "id": "2316a2a3",
      "execution_count": null,
      "outputs": []
    },
    {
      "cell_type": "code",
      "metadata": {
        "id": "1801ac40"
      },
      "source": [
        ""
      ],
      "id": "1801ac40",
      "execution_count": null,
      "outputs": []
    },
    {
      "cell_type": "code",
      "metadata": {
        "id": "79f85834"
      },
      "source": [
        ""
      ],
      "id": "79f85834",
      "execution_count": null,
      "outputs": []
    },
    {
      "cell_type": "markdown",
      "metadata": {
        "id": "f8c87433"
      },
      "source": [
        "## Exercise 4\n",
        "    What values are returned during the following series of stack operations, if executed upon an initially empty stack?\n",
        "\n",
        "    push(5), push(3), pop(), push(2), push(8), pop(), pop(), push(9), push(1), pop(), push(7), push(6), pop(), pop(), push(4), pop(), pop()\n",
        "    \n",
        "    "
      ],
      "id": "f8c87433"
    },
    {
      "cell_type": "code",
      "metadata": {
        "id": "7bbcfe3c"
      },
      "source": [
        "class Empty(Exception):\n",
        "    pass"
      ],
      "id": "7bbcfe3c",
      "execution_count": null,
      "outputs": []
    },
    {
      "cell_type": "code",
      "metadata": {
        "id": "3c11e333"
      },
      "source": [
        "class ArrayStack:\n",
        "    \"\"\"LIFO Stack implementatino using a Python list as underlying storage.\"\"\"\n",
        "    \n",
        "    def __init__(self):\n",
        "        self._data = []\n",
        "        \n",
        "    def __len__(self):\n",
        "        return len(self._data)\n",
        "    \n",
        "    def is_empty(self):\n",
        "        return len(self._data) == 0\n",
        "    \n",
        "    def push(self, e):\n",
        "        self._data.append(e)\n",
        "        \n",
        "    def top(self):\n",
        "        if self.is_empty():\n",
        "            raise Empty('Stack is empty')\n",
        "        return self._data[-1]\n",
        "    \n",
        "    def pop(self):\n",
        "        if self.is_empty():\n",
        "            raise Empty('Stack is empty')\n",
        "        return self._data.pop()"
      ],
      "id": "3c11e333",
      "execution_count": null,
      "outputs": []
    },
    {
      "cell_type": "code",
      "metadata": {
        "id": "2564402d"
      },
      "source": [
        ""
      ],
      "id": "2564402d",
      "execution_count": null,
      "outputs": []
    },
    {
      "cell_type": "code",
      "metadata": {
        "id": "db6122ea"
      },
      "source": [
        ""
      ],
      "id": "db6122ea",
      "execution_count": null,
      "outputs": []
    },
    {
      "cell_type": "markdown",
      "metadata": {
        "id": "92777b55"
      },
      "source": [
        "## Exercise 5\n",
        "\n",
        "    Write a Python program to create a queue and display all the members and size of the queue. \n",
        "    \n",
        "    you need to store values - 0,1,2,3 in the queue.\n",
        "    \n",
        "   **Expected Output**\n",
        "    \n",
        "    Members of the queue:\n",
        "    0 1 2 3\n",
        "    Size of the queue:\n",
        "    4"
      ],
      "id": "92777b55"
    },
    {
      "cell_type": "code",
      "metadata": {
        "id": "24365c26"
      },
      "source": [
        ""
      ],
      "id": "24365c26",
      "execution_count": null,
      "outputs": []
    }
  ]
}