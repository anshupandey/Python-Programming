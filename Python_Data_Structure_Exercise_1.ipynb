{
 "cells": [
  {
   "cell_type": "markdown",
   "metadata": {
    "colab_type": "text",
    "id": "view-in-github"
   },
   "source": [
    "<a href=\"https://colab.research.google.com/github/anshupandey/Python-Programming/blob/main/Python_Data_Structure_Exercise_1.ipynb\" target=\"_parent\"><img src=\"https://colab.research.google.com/assets/colab-badge.svg\" alt=\"Open In Colab\"/></a>"
   ]
  },
  {
   "cell_type": "markdown",
   "metadata": {
    "id": "ADYKgy-Lgd1g"
   },
   "source": [
    "## Python Data Structure Exercises - 1"
   ]
  },
  {
   "cell_type": "markdown",
   "metadata": {
    "id": "SAgcXxOJghRF"
   },
   "source": [
    "**Exercise 1: Given two lists create a third list by picking an odd-index element from the first list and even index elements from the second.**"
   ]
  },
  {
   "cell_type": "code",
   "execution_count": 1,
   "metadata": {
    "id": "qpjh8kdJgdGZ"
   },
   "outputs": [],
   "source": [
    "listOne = [3, 6, 9, 12, 15, 18, 21]\n",
    "listTwo = [4, 8, 12, 16, 20, 24, 28]"
   ]
  },
  {
   "cell_type": "code",
   "execution_count": null,
   "metadata": {
    "id": "9Uxtt8I_gkTt"
   },
   "outputs": [],
   "source": []
  },
  {
   "cell_type": "markdown",
   "metadata": {
    "id": "Il3A_7PVgpFP"
   },
   "source": [
    "**Exercise 2: Given a list, remove the element at index 4 and add it to the 2nd position and at the end of the list**"
   ]
  },
  {
   "cell_type": "code",
   "execution_count": 2,
   "metadata": {
    "id": "4xD3mQdRgtuH"
   },
   "outputs": [],
   "source": [
    "list1 = [54, 44, 27, 79, 91, 41]"
   ]
  },
  {
   "cell_type": "code",
   "execution_count": 2,
   "metadata": {
    "id": "YPGcS-0ogxxj"
   },
   "outputs": [],
   "source": []
  },
  {
   "cell_type": "markdown",
   "metadata": {
    "id": "QLoIzi1pgyjQ"
   },
   "source": [
    "**Exercise 3: Given a list slice it into 3 equal chunks and reverse each chunk**"
   ]
  },
  {
   "cell_type": "code",
   "execution_count": 3,
   "metadata": {
    "id": "1KETd0gtgzMQ"
   },
   "outputs": [],
   "source": [
    "sampleList = [11, 45, 8, 23, 14, 12, 78, 45, 89]"
   ]
  },
  {
   "cell_type": "code",
   "execution_count": null,
   "metadata": {
    "id": "R55w9y6Ng49r"
   },
   "outputs": [],
   "source": []
  },
  {
   "cell_type": "markdown",
   "metadata": {
    "id": "DZrOCANng5lh"
   },
   "source": [
    "\n",
    "**Exercise 4: Iterate a given list and count the occurrence of each element and create a dictionary to show the count of each element**"
   ]
  },
  {
   "cell_type": "code",
   "execution_count": 4,
   "metadata": {
    "id": "ZY7OxTDng6MG"
   },
   "outputs": [],
   "source": [
    "listdata = [11, 45, 8, 11, 23, 45, 23, 45, 89]"
   ]
  },
  {
   "cell_type": "code",
   "execution_count": null,
   "metadata": {
    "id": "Rpl9QStChLg1"
   },
   "outputs": [],
   "source": []
  },
  {
   "cell_type": "markdown",
   "metadata": {
    "id": "kyPDB6wohMSr"
   },
   "source": [
    "**Exercise 5: Given a two list of equal size create a Python set such that it shows the element from both lists in the pair**"
   ]
  },
  {
   "cell_type": "code",
   "execution_count": 6,
   "metadata": {
    "id": "B-DJ7--whP9b"
   },
   "outputs": [],
   "source": [
    "flist = [2, 3, 4, 5, 6, 7, 8]\n",
    "slist = [4, 9, 16, 25, 36, 49, 64]"
   ]
  },
  {
   "cell_type": "markdown",
   "metadata": {
    "id": "wue1ciLFhQTx"
   },
   "source": [
    "**Exercise 6: Given the following two sets find the intersection and remove those elements from the first set**"
   ]
  },
  {
   "cell_type": "code",
   "execution_count": 7,
   "metadata": {
    "id": "QYy6ns2khQwx"
   },
   "outputs": [],
   "source": [
    "fset = {65, 42, 78, 83, 23, 57, 29}\n",
    "sset = {67, 73, 43, 48, 83, 57, 29}"
   ]
  },
  {
   "cell_type": "code",
   "execution_count": 7,
   "metadata": {
    "id": "t1R1CxWShRN0"
   },
   "outputs": [],
   "source": []
  },
  {
   "cell_type": "markdown",
   "metadata": {
    "id": "nA9NnxUehRmD"
   },
   "source": [
    "**Exercise 7: Given two sets, Checks if One Set is a subset or superset of another Set. if the subset is found delete all elements from that set**"
   ]
  },
  {
   "cell_type": "code",
   "execution_count": null,
   "metadata": {
    "id": "cbTP-9SwhSI-"
   },
   "outputs": [],
   "source": [
    "firstSet = {27, 43, 34}\n",
    "secondSet = {34, 93, 22, 27, 43, 53, 48}"
   ]
  },
  {
   "cell_type": "code",
   "execution_count": null,
   "metadata": {
    "id": "orn1vmAPhSgb"
   },
   "outputs": [],
   "source": []
  },
  {
   "cell_type": "markdown",
   "metadata": {
    "id": "7ltTyQv6hT73"
   },
   "source": [
    "**Exercise 8: Iterate a given list and Check if a given element already exists in a dictionary as a key’s value if not delete it from the list**"
   ]
  },
  {
   "cell_type": "code",
   "execution_count": null,
   "metadata": {
    "id": "lFLhoTLChT73"
   },
   "outputs": [],
   "source": [
    "rollNumber = [47, 64, 69, 37, 76, 83, 95, 97]\n",
    "sampleDict ={'Jhon':47, 'Emma':69, 'Kelly':76, 'Jason':97}"
   ]
  },
  {
   "cell_type": "code",
   "execution_count": null,
   "metadata": {
    "id": "HI8Rr67thT74"
   },
   "outputs": [],
   "source": []
  },
  {
   "cell_type": "markdown",
   "metadata": {
    "id": "o-eFMmZThUIK"
   },
   "source": [
    "\n",
    "**Exercise 9: Given a dictionary get all values from the dictionary and add them to a list but don’t add duplicates**"
   ]
  },
  {
   "cell_type": "code",
   "execution_count": 8,
   "metadata": {
    "id": "1UqjwjHZhUIK"
   },
   "outputs": [],
   "source": [
    "speed ={'jan':47, 'feb':52, 'march':47, 'April':44, 'May':52, 'June':53, 'july':54, 'Aug':44, 'Sept':54}"
   ]
  },
  {
   "cell_type": "code",
   "execution_count": null,
   "metadata": {
    "id": "U8ZgMKuUhUIL"
   },
   "outputs": [],
   "source": []
  },
  {
   "cell_type": "markdown",
   "metadata": {
    "id": "jl_MMtsyhUPp"
   },
   "source": [
    "\n",
    "**Exercise 10: Remove duplicate from a list and create a tuple and find the minimum and maximum number**"
   ]
  },
  {
   "cell_type": "code",
   "execution_count": 9,
   "metadata": {
    "id": "pAqva1VKhUPp"
   },
   "outputs": [],
   "source": [
    "sampleList = [87, 45, 41, 65, 94, 41, 99, 94]"
   ]
  },
  {
   "cell_type": "code",
   "execution_count": null,
   "metadata": {
    "id": "7YUt2subhUPp"
   },
   "outputs": [],
   "source": []
  }
 ],
 "metadata": {
  "colab": {
   "authorship_tag": "ABX9TyMcEqjjEdyq+inka/mEBIiB",
   "collapsed_sections": [],
   "include_colab_link": true,
   "name": "Python Data Structure Exercise - 1.ipynb",
   "provenance": []
  },
  "kernelspec": {
   "display_name": "Python 3",
   "language": "python",
   "name": "python3"
  },
  "language_info": {
   "codemirror_mode": {
    "name": "ipython",
    "version": 3
   },
   "file_extension": ".py",
   "mimetype": "text/x-python",
   "name": "python",
   "nbconvert_exporter": "python",
   "pygments_lexer": "ipython3",
   "version": "3.8.8"
  }
 },
 "nbformat": 4,
 "nbformat_minor": 1
}
