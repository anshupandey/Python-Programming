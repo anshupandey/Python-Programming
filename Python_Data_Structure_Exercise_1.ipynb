{
  "nbformat": 4,
  "nbformat_minor": 0,
  "metadata": {
    "colab": {
      "name": "Python Data Structure Exercise - 1.ipynb",
      "provenance": [],
      "collapsed_sections": [],
      "authorship_tag": "ABX9TyMcEqjjEdyq+inka/mEBIiB",
      "include_colab_link": true
    },
    "kernelspec": {
      "name": "python3",
      "display_name": "Python 3"
    },
    "language_info": {
      "name": "python"
    }
  },
  "cells": [
    {
      "cell_type": "markdown",
      "metadata": {
        "id": "view-in-github",
        "colab_type": "text"
      },
      "source": [
        "<a href=\"https://colab.research.google.com/github/anshupandey/Python-Programming/blob/main/Python_Data_Structure_Exercise_1.ipynb\" target=\"_parent\"><img src=\"https://colab.research.google.com/assets/colab-badge.svg\" alt=\"Open In Colab\"/></a>"
      ]
    },
    {
      "cell_type": "markdown",
      "metadata": {
        "id": "ADYKgy-Lgd1g"
      },
      "source": [
        "## Python Data Structure Exercises - 1"
      ]
    },
    {
      "cell_type": "markdown",
      "metadata": {
        "id": "SAgcXxOJghRF"
      },
      "source": [
        "**Exercise 1: Given two lists create a third list by picking an odd-index element from the first list and even index elements from the second.**"
      ]
    },
    {
      "cell_type": "code",
      "metadata": {
        "id": "qpjh8kdJgdGZ"
      },
      "source": [
        "listOne = [3, 6, 9, 12, 15, 18, 21]\n",
        "listTwo = [4, 8, 12, 16, 20, 24, 28]"
      ],
      "execution_count": 1,
      "outputs": []
    },
    {
      "cell_type": "code",
      "metadata": {
        "id": "9Uxtt8I_gkTt"
      },
      "source": [
        ""
      ],
      "execution_count": null,
      "outputs": []
    },
    {
      "cell_type": "markdown",
      "metadata": {
        "id": "Il3A_7PVgpFP"
      },
      "source": [
        "Exercise 2: Given a list, remove the element at index 4 and add it to the 2nd position and at the end of the list"
      ]
    },
    {
      "cell_type": "code",
      "metadata": {
        "id": "4xD3mQdRgtuH"
      },
      "source": [
        "list1 = [54, 44, 27, 79, 91, 41]"
      ],
      "execution_count": 2,
      "outputs": []
    },
    {
      "cell_type": "code",
      "metadata": {
        "id": "YPGcS-0ogxxj"
      },
      "source": [
        ""
      ],
      "execution_count": 2,
      "outputs": []
    },
    {
      "cell_type": "markdown",
      "metadata": {
        "id": "QLoIzi1pgyjQ"
      },
      "source": [
        "**Exercise 3: Given a list slice it into 3 equal chunks and reverse each chunk**"
      ]
    },
    {
      "cell_type": "code",
      "metadata": {
        "id": "1KETd0gtgzMQ"
      },
      "source": [
        "sampleList = [11, 45, 8, 23, 14, 12, 78, 45, 89]"
      ],
      "execution_count": 3,
      "outputs": []
    },
    {
      "cell_type": "code",
      "metadata": {
        "id": "R55w9y6Ng49r"
      },
      "source": [
        ""
      ],
      "execution_count": null,
      "outputs": []
    },
    {
      "cell_type": "markdown",
      "metadata": {
        "id": "DZrOCANng5lh"
      },
      "source": [
        "\n",
        "**Exercise 4: Iterate a given list and count the occurrence of each element and create a dictionary to show the count of each element**"
      ]
    },
    {
      "cell_type": "code",
      "metadata": {
        "id": "ZY7OxTDng6MG"
      },
      "source": [
        "listdata = [11, 45, 8, 11, 23, 45, 23, 45, 89]"
      ],
      "execution_count": 4,
      "outputs": []
    },
    {
      "cell_type": "code",
      "metadata": {
        "id": "Rpl9QStChLg1"
      },
      "source": [
        ""
      ],
      "execution_count": null,
      "outputs": []
    },
    {
      "cell_type": "markdown",
      "metadata": {
        "id": "kyPDB6wohMSr"
      },
      "source": [
        "**Exercise 5: Given a two list of equal size create a Python set such that it shows the element from both lists in the pair**"
      ]
    },
    {
      "cell_type": "code",
      "metadata": {
        "id": "B-DJ7--whP9b"
      },
      "source": [
        "flist = [2, 3, 4, 5, 6, 7, 8]\n",
        "slist = [4, 9, 16, 25, 36, 49, 64]"
      ],
      "execution_count": 6,
      "outputs": []
    },
    {
      "cell_type": "markdown",
      "metadata": {
        "id": "wue1ciLFhQTx"
      },
      "source": [
        "**Exercise 6: Given the following two sets find the intersection and remove those elements from the first set**"
      ]
    },
    {
      "cell_type": "code",
      "metadata": {
        "id": "QYy6ns2khQwx"
      },
      "source": [
        "fset = {65, 42, 78, 83, 23, 57, 29}\n",
        "sset = {67, 73, 43, 48, 83, 57, 29}"
      ],
      "execution_count": 7,
      "outputs": []
    },
    {
      "cell_type": "code",
      "metadata": {
        "id": "t1R1CxWShRN0"
      },
      "source": [
        ""
      ],
      "execution_count": 7,
      "outputs": []
    },
    {
      "cell_type": "markdown",
      "metadata": {
        "id": "nA9NnxUehRmD"
      },
      "source": [
        "**Exercise 7: Given two sets, Checks if One Set is a subset or superset of another Set. if the subset is found delete all elements from that set**"
      ]
    },
    {
      "cell_type": "code",
      "metadata": {
        "id": "cbTP-9SwhSI-"
      },
      "source": [
        "firstSet = {27, 43, 34}\n",
        "secondSet = {34, 93, 22, 27, 43, 53, 48}"
      ],
      "execution_count": null,
      "outputs": []
    },
    {
      "cell_type": "code",
      "metadata": {
        "id": "orn1vmAPhSgb"
      },
      "source": [
        ""
      ],
      "execution_count": null,
      "outputs": []
    },
    {
      "cell_type": "markdown",
      "metadata": {
        "id": "7ltTyQv6hT73"
      },
      "source": [
        "**Exercise 8: Iterate a given list and Check if a given element already exists in a dictionary as a key’s value if not delete it from the list**"
      ]
    },
    {
      "cell_type": "code",
      "metadata": {
        "id": "lFLhoTLChT73"
      },
      "source": [
        "rollNumber = [47, 64, 69, 37, 76, 83, 95, 97]\n",
        "sampleDict ={'Jhon':47, 'Emma':69, 'Kelly':76, 'Jason':97}"
      ],
      "execution_count": null,
      "outputs": []
    },
    {
      "cell_type": "code",
      "metadata": {
        "id": "HI8Rr67thT74"
      },
      "source": [
        ""
      ],
      "execution_count": null,
      "outputs": []
    },
    {
      "cell_type": "markdown",
      "metadata": {
        "id": "o-eFMmZThUIK"
      },
      "source": [
        "\n",
        "**Exercise 9: Given a dictionary get all values from the dictionary and add them to a list but don’t add duplicates**"
      ]
    },
    {
      "cell_type": "code",
      "metadata": {
        "id": "1UqjwjHZhUIK"
      },
      "source": [
        "speed ={'jan':47, 'feb':52, 'march':47, 'April':44, 'May':52, 'June':53, 'july':54, 'Aug':44, 'Sept':54}"
      ],
      "execution_count": 8,
      "outputs": []
    },
    {
      "cell_type": "code",
      "metadata": {
        "id": "U8ZgMKuUhUIL"
      },
      "source": [
        ""
      ],
      "execution_count": null,
      "outputs": []
    },
    {
      "cell_type": "markdown",
      "metadata": {
        "id": "jl_MMtsyhUPp"
      },
      "source": [
        "\n",
        "**Exercise 10: Remove duplicate from a list and create a tuple and find the minimum and maximum number**"
      ]
    },
    {
      "cell_type": "code",
      "metadata": {
        "id": "pAqva1VKhUPp"
      },
      "source": [
        "sampleList = [87, 45, 41, 65, 94, 41, 99, 94]"
      ],
      "execution_count": 9,
      "outputs": []
    },
    {
      "cell_type": "code",
      "metadata": {
        "id": "7YUt2subhUPp"
      },
      "source": [
        ""
      ],
      "execution_count": null,
      "outputs": []
    },
    {
      "cell_type": "markdown",
      "metadata": {
        "id": "gTvsVjughUVj"
      },
      "source": [
        ""
      ]
    },
    {
      "cell_type": "code",
      "metadata": {
        "id": "p-kr5WH0hUVk"
      },
      "source": [
        ""
      ],
      "execution_count": null,
      "outputs": []
    },
    {
      "cell_type": "code",
      "metadata": {
        "id": "qPF_HJSZhUVk"
      },
      "source": [
        ""
      ],
      "execution_count": null,
      "outputs": []
    },
    {
      "cell_type": "markdown",
      "metadata": {
        "id": "VocjGSeMhUZF"
      },
      "source": [
        ""
      ]
    },
    {
      "cell_type": "code",
      "metadata": {
        "id": "fvLQO6xwhUZF"
      },
      "source": [
        ""
      ],
      "execution_count": null,
      "outputs": []
    },
    {
      "cell_type": "code",
      "metadata": {
        "id": "N7yQY_s-hUZF"
      },
      "source": [
        ""
      ],
      "execution_count": null,
      "outputs": []
    },
    {
      "cell_type": "markdown",
      "metadata": {
        "id": "nlCK6tQFhTCj"
      },
      "source": [
        ""
      ]
    }
  ]
}