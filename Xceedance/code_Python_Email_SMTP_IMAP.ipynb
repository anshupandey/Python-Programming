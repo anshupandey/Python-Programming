{
 "cells": [
  {
   "cell_type": "markdown",
   "id": "a9c1d445",
   "metadata": {},
   "source": [
    "# Sending email using SMTP protocol with python"
   ]
  },
  {
   "cell_type": "markdown",
   "id": "391102e0",
   "metadata": {},
   "source": [
    "### Using gmail SMTP server"
   ]
  },
  {
   "cell_type": "code",
   "execution_count": 1,
   "id": "4328c86d",
   "metadata": {},
   "outputs": [],
   "source": [
    "import smtplib\n",
    "import ssl\n",
    "import getpass"
   ]
  },
  {
   "cell_type": "code",
   "execution_count": 10,
   "id": "98d90ee2",
   "metadata": {},
   "outputs": [
    {
     "name": "stdout",
     "output_type": "stream",
     "text": [
      "Enter your pasword········\n"
     ]
    }
   ],
   "source": [
    "message = \"\"\" Hey How are you doing?\n",
    "I hope you are good today.\"\"\"\n",
    "\n",
    "server_add = \"smtp.gmail.com\"\n",
    "port = 465\n",
    "sender = \"anshu.india514@gmail.com\"\n",
    "receiver = \"aspdiscovery@outlook.com\"\n",
    "password = getpass.getpass(prompt=\"Enter your pasword\",stream=None)\n",
    "\n",
    "context = ssl.create_default_context()"
   ]
  },
  {
   "cell_type": "code",
   "execution_count": 12,
   "id": "fccd9b2b",
   "metadata": {},
   "outputs": [],
   "source": [
    "with smtplib.SMTP_SSL(server_add,port,context=context) as server:\n",
    "    server.login(sender,password)\n",
    "    server.sendmail(sender,receiver,message)"
   ]
  },
  {
   "cell_type": "markdown",
   "id": "e6ff342f",
   "metadata": {},
   "source": [
    "## Using a local SMTP Server"
   ]
  },
  {
   "cell_type": "code",
   "execution_count": 13,
   "id": "5f0340f5",
   "metadata": {},
   "outputs": [],
   "source": [
    "import smtplib\n",
    "import ssl"
   ]
  },
  {
   "cell_type": "code",
   "execution_count": 14,
   "id": "46e5a98a",
   "metadata": {},
   "outputs": [],
   "source": [
    "sender = \"anshu.india514@gmail.com\"\n",
    "receiver = \"aspdiscovery@outlook.com\"\n",
    "message = \"\"\" Hey How are you doing?\n",
    "I hope you are good today.\"\"\"\n"
   ]
  },
  {
   "cell_type": "code",
   "execution_count": 17,
   "id": "72f096f1",
   "metadata": {},
   "outputs": [],
   "source": [
    "with smtplib.SMTP(\"localhost\",1025) as server:\n",
    "    server.sendmail(sender,sender,message)"
   ]
  },
  {
   "cell_type": "markdown",
   "id": "e4f04738",
   "metadata": {},
   "source": [
    "# Receive emails using IMAP"
   ]
  },
  {
   "cell_type": "code",
   "execution_count": 31,
   "id": "805e42e2",
   "metadata": {},
   "outputs": [],
   "source": [
    "import imaplib\n",
    "import ssl\n",
    "import getpass"
   ]
  },
  {
   "cell_type": "code",
   "execution_count": 20,
   "id": "3d7ee82e",
   "metadata": {},
   "outputs": [
    {
     "name": "stdout",
     "output_type": "stream",
     "text": [
      "Enter Password: ········\n"
     ]
    }
   ],
   "source": [
    "host = \"imap.gmail.com\"\n",
    "port = 993\n",
    "password = getpass.getpass(prompt=\"Enter Password: \",stream=None)\n",
    "usernam='anshu.india514@gmail.com'"
   ]
  },
  {
   "cell_type": "code",
   "execution_count": 21,
   "id": "aae4a6df",
   "metadata": {},
   "outputs": [],
   "source": [
    "context = ssl.create_default_context()"
   ]
  },
  {
   "cell_type": "code",
   "execution_count": 38,
   "id": "fc7877d3",
   "metadata": {
    "scrolled": true
   },
   "outputs": [
    {
     "name": "stdout",
     "output_type": "stream",
     "text": [
      "MIME-Version: 1.0\r\n",
      "Date: Thu, 27 May 2021 14:23:30 +0530\r\n",
      "Message-ID: <CAEvoRs2tReiG3=noRD2DPHohA80RjcasmwPY_EdEEoBbPpSwHA@mail.gmail.com>\r\n",
      "Subject: Mail from manager\r\n",
      "From: Anshu Pandey <anshu.india514@gmail.com>\r\n",
      "To: Anshu Pandey <anshu.india514@gmail.com>\r\n",
      "Content-Type: multipart/alternative; boundary=\"000000000000b1a73305c34be4bf\"\r\n",
      "\r\n",
      "--000000000000b1a73305c34be4bf\r\n",
      "Content-Type: text/plain; charset=\"UTF-8\"\r\n",
      "\r\n",
      "Hi\r\n",
      "Hope you are doing well today.\r\n",
      "\r\n",
      "--000000000000b1a73305c34be4bf\r\n",
      "Content-Type: text/html; charset=\"UTF-8\"\r\n",
      "\r\n",
      "<div dir=\"ltr\">Hi<div>Hope you are doing well today.</div></div>\r\n",
      "\r\n",
      "--000000000000b1a73305c34be4bf--\n"
     ]
    }
   ],
   "source": [
    "with imaplib.IMAP4_SSL(host,port) as server:\n",
    "    server.login(usernam,password)\n",
    "    server.select(\"Inbox\")\n",
    "    tmp,data = server.search(None,'ALL')\n",
    "    #print(data[0].split())\n",
    "    for num in data[0].split():\n",
    "        tmp,mydata = server.fetch(num,\"(RFC822)\")\n",
    "        print(mydata[0][1].decode())\n",
    "        break"
   ]
  },
  {
   "cell_type": "code",
   "execution_count": null,
   "id": "c2320e46",
   "metadata": {},
   "outputs": [],
   "source": []
  }
 ],
 "metadata": {
  "kernelspec": {
   "display_name": "Python 3",
   "language": "python",
   "name": "python3"
  },
  "language_info": {
   "codemirror_mode": {
    "name": "ipython",
    "version": 3
   },
   "file_extension": ".py",
   "mimetype": "text/x-python",
   "name": "python",
   "nbconvert_exporter": "python",
   "pygments_lexer": "ipython3",
   "version": "3.8.8"
  }
 },
 "nbformat": 4,
 "nbformat_minor": 5
}
