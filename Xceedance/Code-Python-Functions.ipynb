{
 "cells": [
  {
   "cell_type": "markdown",
   "id": "df2fbcd6",
   "metadata": {},
   "source": [
    "# Python Functions"
   ]
  },
  {
   "cell_type": "markdown",
   "id": "98216907",
   "metadata": {},
   "source": [
    "## Built in functions"
   ]
  },
  {
   "cell_type": "code",
   "execution_count": 10,
   "id": "9490bcb1",
   "metadata": {},
   "outputs": [],
   "source": [
    "x = [4, 5, 6, 2]"
   ]
  },
  {
   "cell_type": "code",
   "execution_count": 11,
   "id": "a11ec939",
   "metadata": {
    "collapsed": true
   },
   "outputs": [
    {
     "name": "stdout",
     "output_type": "stream",
     "text": [
      "[4, 5, 6, 2]\n"
     ]
    }
   ],
   "source": [
    "print(x) # print() can be used to show value of a python object"
   ]
  },
  {
   "cell_type": "code",
   "execution_count": 12,
   "id": "4d49d5ef",
   "metadata": {
    "collapsed": true
   },
   "outputs": [
    {
     "data": {
      "text/plain": [
       "list"
      ]
     },
     "execution_count": 12,
     "metadata": {},
     "output_type": "execute_result"
    }
   ],
   "source": [
    "type(x) # used to check data type of a python object"
   ]
  },
  {
   "cell_type": "code",
   "execution_count": 13,
   "id": "b2aeff59",
   "metadata": {
    "collapsed": true
   },
   "outputs": [
    {
     "data": {
      "text/plain": [
       "4"
      ]
     },
     "execution_count": 13,
     "metadata": {},
     "output_type": "execute_result"
    }
   ],
   "source": [
    "len(x) # used to check length of an iterable"
   ]
  },
  {
   "cell_type": "code",
   "execution_count": 14,
   "id": "3f40e420",
   "metadata": {},
   "outputs": [],
   "source": [
    "# input() = used to accept user input from prompt"
   ]
  },
  {
   "cell_type": "code",
   "execution_count": 15,
   "id": "c027b398",
   "metadata": {
    "collapsed": true
   },
   "outputs": [
    {
     "data": {
      "text/plain": [
       "17"
      ]
     },
     "execution_count": 15,
     "metadata": {},
     "output_type": "execute_result"
    }
   ],
   "source": [
    "sum(x) # get the sum of values in a list/tuple/set"
   ]
  },
  {
   "cell_type": "code",
   "execution_count": 16,
   "id": "8f38b9c9",
   "metadata": {
    "collapsed": true
   },
   "outputs": [
    {
     "data": {
      "text/plain": [
       "2"
      ]
     },
     "execution_count": 16,
     "metadata": {},
     "output_type": "execute_result"
    }
   ],
   "source": [
    "min(x) # to get the minimum value from an iterable"
   ]
  },
  {
   "cell_type": "code",
   "execution_count": 17,
   "id": "d9d35762",
   "metadata": {
    "collapsed": true
   },
   "outputs": [
    {
     "data": {
      "text/plain": [
       "6"
      ]
     },
     "execution_count": 17,
     "metadata": {},
     "output_type": "execute_result"
    }
   ],
   "source": [
    "max(x)"
   ]
  },
  {
   "cell_type": "code",
   "execution_count": 18,
   "id": "d117636f",
   "metadata": {
    "collapsed": true
   },
   "outputs": [
    {
     "data": {
      "text/plain": [
       "[2, 4, 5, 6]"
      ]
     },
     "execution_count": 18,
     "metadata": {},
     "output_type": "execute_result"
    }
   ],
   "source": [
    "sorted(x)"
   ]
  },
  {
   "cell_type": "code",
   "execution_count": 19,
   "id": "b0c99ad7",
   "metadata": {},
   "outputs": [
    {
     "data": {
      "text/plain": [
       "[6, 5, 4, 2]"
      ]
     },
     "execution_count": 19,
     "metadata": {},
     "output_type": "execute_result"
    }
   ],
   "source": [
    "sorted(x,reverse=True)"
   ]
  },
  {
   "cell_type": "code",
   "execution_count": 23,
   "id": "8ceda225",
   "metadata": {},
   "outputs": [
    {
     "name": "stdout",
     "output_type": "stream",
     "text": [
      "[4, 5, 6, 2]\n"
     ]
    }
   ],
   "source": [
    "print(x)"
   ]
  },
  {
   "cell_type": "code",
   "execution_count": 24,
   "id": "fa1cb6d4",
   "metadata": {},
   "outputs": [
    {
     "data": {
      "text/plain": [
       "17"
      ]
     },
     "execution_count": 24,
     "metadata": {},
     "output_type": "execute_result"
    }
   ],
   "source": [
    "sum(x)"
   ]
  },
  {
   "cell_type": "code",
   "execution_count": 26,
   "id": "90d43b43",
   "metadata": {},
   "outputs": [
    {
     "data": {
      "text/plain": [
       "11"
      ]
     },
     "execution_count": 26,
     "metadata": {},
     "output_type": "execute_result"
    }
   ],
   "source": [
    "sum(x[1:3])"
   ]
  },
  {
   "cell_type": "code",
   "execution_count": 29,
   "id": "fb1bccbb",
   "metadata": {},
   "outputs": [
    {
     "name": "stdout",
     "output_type": "stream",
     "text": [
      "Help on built-in function sorted in module builtins:\n",
      "\n",
      "sorted(iterable, /, *, key=None, reverse=False)\n",
      "    Return a new list containing all items from the iterable in ascending order.\n",
      "    \n",
      "    A custom key function can be supplied to customize the sort order, and the\n",
      "    reverse flag can be set to request the result in descending order.\n",
      "\n"
     ]
    }
   ],
   "source": [
    "help(sorted)"
   ]
  },
  {
   "cell_type": "code",
   "execution_count": 36,
   "id": "2b14239e",
   "metadata": {},
   "outputs": [
    {
     "data": {
      "text/plain": [
       "2.465"
      ]
     },
     "execution_count": 36,
     "metadata": {},
     "output_type": "execute_result"
    }
   ],
   "source": [
    "round(2.464864648468,3)"
   ]
  },
  {
   "cell_type": "code",
   "execution_count": 37,
   "id": "fb3b7448",
   "metadata": {},
   "outputs": [
    {
     "name": "stdout",
     "output_type": "stream",
     "text": [
      "[4, 5, 6, 2]\n"
     ]
    }
   ],
   "source": [
    "print(x)"
   ]
  },
  {
   "cell_type": "code",
   "execution_count": 31,
   "id": "16de2ab1",
   "metadata": {},
   "outputs": [
    {
     "data": {
      "text/plain": [
       "1624984349632"
      ]
     },
     "execution_count": 31,
     "metadata": {},
     "output_type": "execute_result"
    }
   ],
   "source": [
    "id(x) # memory location of a python object"
   ]
  },
  {
   "cell_type": "code",
   "execution_count": 43,
   "id": "f6b3e8ae",
   "metadata": {},
   "outputs": [],
   "source": [
    "a = [4,5]\n",
    "b = a"
   ]
  },
  {
   "cell_type": "code",
   "execution_count": 44,
   "id": "6e529790",
   "metadata": {},
   "outputs": [
    {
     "data": {
      "text/plain": [
       "1624984528128"
      ]
     },
     "execution_count": 44,
     "metadata": {},
     "output_type": "execute_result"
    }
   ],
   "source": [
    "id(a)"
   ]
  },
  {
   "cell_type": "code",
   "execution_count": 45,
   "id": "3195792f",
   "metadata": {},
   "outputs": [
    {
     "data": {
      "text/plain": [
       "1624984528128"
      ]
     },
     "execution_count": 45,
     "metadata": {},
     "output_type": "execute_result"
    }
   ],
   "source": [
    "id(b)"
   ]
  },
  {
   "cell_type": "code",
   "execution_count": 46,
   "id": "e54ccec0",
   "metadata": {},
   "outputs": [],
   "source": [
    "a.append(8)"
   ]
  },
  {
   "cell_type": "code",
   "execution_count": 47,
   "id": "197e050f",
   "metadata": {},
   "outputs": [
    {
     "name": "stdout",
     "output_type": "stream",
     "text": [
      "[4, 5, 8] [4, 5, 8]\n"
     ]
    }
   ],
   "source": [
    "print(a,b)"
   ]
  },
  {
   "cell_type": "markdown",
   "id": "a74e49ae",
   "metadata": {},
   "source": [
    "## User defined function"
   ]
  },
  {
   "cell_type": "markdown",
   "id": "120cf21e",
   "metadata": {},
   "source": [
    "        def <name of funcion> (<inpput arguments>):\n",
    "            <-- function code-->\n",
    "            return <outouts>"
   ]
  },
  {
   "cell_type": "code",
   "execution_count": 48,
   "id": "0be516b3",
   "metadata": {},
   "outputs": [],
   "source": [
    "def greet():\n",
    "    print(\"Hello from Kaizen to everyone!\")\n",
    "    return None"
   ]
  },
  {
   "cell_type": "code",
   "execution_count": 49,
   "id": "708c22ce",
   "metadata": {},
   "outputs": [
    {
     "name": "stdout",
     "output_type": "stream",
     "text": [
      "Hello from Kaizen to everyone!\n"
     ]
    }
   ],
   "source": [
    "greet()"
   ]
  },
  {
   "cell_type": "code",
   "execution_count": 50,
   "id": "610952f7",
   "metadata": {},
   "outputs": [
    {
     "name": "stdout",
     "output_type": "stream",
     "text": [
      "Hello from Kaizen to everyone!\n"
     ]
    }
   ],
   "source": [
    "greet()"
   ]
  },
  {
   "cell_type": "code",
   "execution_count": 51,
   "id": "62b8d0cf",
   "metadata": {},
   "outputs": [],
   "source": [
    "def kaizen(a,b):\n",
    "    c = a + b + 1\n",
    "    return c"
   ]
  },
  {
   "cell_type": "code",
   "execution_count": 53,
   "id": "2f12f58c",
   "metadata": {},
   "outputs": [
    {
     "data": {
      "text/plain": [
       "9"
      ]
     },
     "execution_count": 53,
     "metadata": {},
     "output_type": "execute_result"
    }
   ],
   "source": [
    "kaizen(a=5,b=3)"
   ]
  },
  {
   "cell_type": "code",
   "execution_count": 54,
   "id": "4ae02772",
   "metadata": {},
   "outputs": [
    {
     "data": {
      "text/plain": [
       "10"
      ]
     },
     "execution_count": 54,
     "metadata": {},
     "output_type": "execute_result"
    }
   ],
   "source": [
    "kaizen(7,2)"
   ]
  },
  {
   "cell_type": "markdown",
   "id": "03d83dfe",
   "metadata": {},
   "source": [
    "## Task - calculator\n",
    "\n",
    "    write a function which can accept two numbers - a,b\n",
    "    returns 5xa + 3xb - 10\n",
    "    "
   ]
  },
  {
   "cell_type": "code",
   "execution_count": 63,
   "id": "944afafe",
   "metadata": {},
   "outputs": [],
   "source": [
    "def calculator(a,b):\n",
    "    c = 5*a + 3*b - 10\n",
    "    return c"
   ]
  },
  {
   "cell_type": "code",
   "execution_count": 64,
   "id": "0dcdd3e1",
   "metadata": {},
   "outputs": [
    {
     "data": {
      "text/plain": [
       "28"
      ]
     },
     "execution_count": 64,
     "metadata": {},
     "output_type": "execute_result"
    }
   ],
   "source": [
    "calculator(4,6)"
   ]
  },
  {
   "cell_type": "code",
   "execution_count": 65,
   "id": "b4271005",
   "metadata": {},
   "outputs": [
    {
     "ename": "TypeError",
     "evalue": "calculator() missing 1 required positional argument: 'b'",
     "output_type": "error",
     "traceback": [
      "\u001b[1;31m---------------------------------------------------------------------------\u001b[0m",
      "\u001b[1;31mTypeError\u001b[0m                                 Traceback (most recent call last)",
      "\u001b[1;32m<ipython-input-65-2573d5417c51>\u001b[0m in \u001b[0;36m<module>\u001b[1;34m\u001b[0m\n\u001b[1;32m----> 1\u001b[1;33m \u001b[0mcalculator\u001b[0m\u001b[1;33m(\u001b[0m\u001b[1;36m5\u001b[0m\u001b[1;33m)\u001b[0m\u001b[1;33m\u001b[0m\u001b[1;33m\u001b[0m\u001b[0m\n\u001b[0m",
      "\u001b[1;31mTypeError\u001b[0m: calculator() missing 1 required positional argument: 'b'"
     ]
    }
   ],
   "source": [
    "calculator(5)"
   ]
  },
  {
   "cell_type": "code",
   "execution_count": 66,
   "id": "ee70852d",
   "metadata": {},
   "outputs": [],
   "source": [
    "def calculator(a,b=3):\n",
    "    c = 5*a + 3*b - 10\n",
    "    return c"
   ]
  },
  {
   "cell_type": "code",
   "execution_count": 67,
   "id": "d30c9ac0",
   "metadata": {},
   "outputs": [
    {
     "data": {
      "text/plain": [
       "25"
      ]
     },
     "execution_count": 67,
     "metadata": {},
     "output_type": "execute_result"
    }
   ],
   "source": [
    "calculator(4,5)"
   ]
  },
  {
   "cell_type": "code",
   "execution_count": 62,
   "id": "e40556aa",
   "metadata": {},
   "outputs": [
    {
     "data": {
      "text/plain": [
       "29"
      ]
     },
     "execution_count": 62,
     "metadata": {},
     "output_type": "execute_result"
    }
   ],
   "source": [
    "calculator(6)"
   ]
  },
  {
   "cell_type": "markdown",
   "id": "e9d90db6",
   "metadata": {},
   "source": [
    "### Documentation string with function"
   ]
  },
  {
   "cell_type": "code",
   "execution_count": 68,
   "id": "708b4e97",
   "metadata": {
    "collapsed": true
   },
   "outputs": [
    {
     "name": "stdout",
     "output_type": "stream",
     "text": [
      "Help on built-in function sorted in module builtins:\n",
      "\n",
      "sorted(iterable, /, *, key=None, reverse=False)\n",
      "    Return a new list containing all items from the iterable in ascending order.\n",
      "    \n",
      "    A custom key function can be supplied to customize the sort order, and the\n",
      "    reverse flag can be set to request the result in descending order.\n",
      "\n"
     ]
    }
   ],
   "source": [
    "help(sorted)"
   ]
  },
  {
   "cell_type": "code",
   "execution_count": 76,
   "id": "403dfde8",
   "metadata": {},
   "outputs": [],
   "source": [
    "def calc(a,b=3):\n",
    "    \"this function accepts two numbers and solves an equation\"\n",
    "    c = 5*a + 3*b - 10\n",
    "    return c"
   ]
  },
  {
   "cell_type": "code",
   "execution_count": 77,
   "id": "e5a37456",
   "metadata": {
    "collapsed": true
   },
   "outputs": [
    {
     "name": "stdout",
     "output_type": "stream",
     "text": [
      "Help on function calc in module __main__:\n",
      "\n",
      "calc(a, b=3)\n",
      "    this function accepts two numbers and solves an equation\n",
      "\n"
     ]
    }
   ],
   "source": [
    "help(calc)"
   ]
  },
  {
   "cell_type": "code",
   "execution_count": 78,
   "id": "7dac78ca",
   "metadata": {},
   "outputs": [],
   "source": [
    "def calc(a,b=3):\n",
    "    \"\"\" This function accepts two numbers as input, perform mathematical calculation.\n",
    "    a = int/float, first argument, necessary argument\n",
    "    b = int/float, optional, default value = 3\n",
    "    the function returns 5xa + 3xb -10\n",
    "    \"\"\"\n",
    "    c = 5*a + 3*b - 10\n",
    "    return c"
   ]
  },
  {
   "cell_type": "code",
   "execution_count": 79,
   "id": "4a74ff81",
   "metadata": {
    "collapsed": true
   },
   "outputs": [
    {
     "name": "stdout",
     "output_type": "stream",
     "text": [
      "Help on function calc in module __main__:\n",
      "\n",
      "calc(a, b=3)\n",
      "    This function accepts two numbers as input, perform mathematical calculation.\n",
      "    a = int/float, first argument, necessary argument\n",
      "    b = int/float, optional, default value = 3\n",
      "    the function returns 5xa + 3xb -10\n",
      "\n"
     ]
    }
   ],
   "source": [
    "help(calc)"
   ]
  },
  {
   "cell_type": "code",
   "execution_count": 75,
   "id": "6082bccb",
   "metadata": {},
   "outputs": [
    {
     "name": "stdout",
     "output_type": "stream",
     "text": [
      "Help on built-in function sorted in module builtins:\n",
      "\n",
      "sorted(iterable, /, *, key=None, reverse=False)\n",
      "    Return a new list containing all items from the iterable in ascending order.\n",
      "    \n",
      "    A custom key function can be supplied to customize the sort order, and the\n",
      "    reverse flag can be set to request the result in descending order.\n",
      "\n"
     ]
    }
   ],
   "source": [
    "help(sorted)"
   ]
  },
  {
   "cell_type": "markdown",
   "id": "0444ad5d",
   "metadata": {},
   "source": [
    "## Task 2 - Spelling recommendation engine\n",
    "\n",
    "### Task 2/A - string to set - str2set\n",
    "    - write a function which can accept a string as input\n",
    "    - convert the string to lower case using .lower() method of the string\n",
    "    - converts the string to set \n",
    "    - returns the set as output\n",
    "    - Example >> str2set(\"Apple\") = {\"a\",\"p\",\"l\",\"e\"}"
   ]
  },
  {
   "cell_type": "code",
   "execution_count": 80,
   "id": "4a20a0b9",
   "metadata": {},
   "outputs": [],
   "source": [
    "def str2set(string):\n",
    "    string = string.lower()\n",
    "    myset = set(string)\n",
    "    return myset"
   ]
  },
  {
   "cell_type": "code",
   "execution_count": 81,
   "id": "8dc0bacb",
   "metadata": {},
   "outputs": [
    {
     "data": {
      "text/plain": [
       "{'a', 'e', 'l', 'p'}"
      ]
     },
     "execution_count": 81,
     "metadata": {},
     "output_type": "execute_result"
    }
   ],
   "source": [
    "str2set(\"Apple\")"
   ]
  },
  {
   "cell_type": "markdown",
   "id": "28878523",
   "metadata": {},
   "source": [
    "### Task 2/B - jaccard distance\n",
    "\n",
    "    - jaccard distance is used to calculate similarity between two words\n",
    "    - wirte a function - jaccard_distance()\n",
    "    - this function should accept two strings\n",
    "    - for string1 - use the function str2set to convert to set\n",
    "    - for string2 - use the function str2set to convert to set\n",
    "    - calculate jaccard distance\n",
    "        jd = len(string1.intersection(string2))/len(string1.union(string2))"
   ]
  },
  {
   "cell_type": "code",
   "execution_count": 84,
   "id": "b72f456f",
   "metadata": {},
   "outputs": [],
   "source": [
    "def jaccard_distance(string1,string2):\n",
    "    string1 = str2set(string1)\n",
    "    string2 = str2set(string2)\n",
    "    jd = 1 - len(string1.intersection(string2))/len(string1.union(string2))   \n",
    "    return jd"
   ]
  },
  {
   "cell_type": "code",
   "execution_count": 85,
   "id": "e3deab8d",
   "metadata": {},
   "outputs": [
    {
     "data": {
      "text/plain": [
       "0.19999999999999996"
      ]
     },
     "execution_count": 85,
     "metadata": {},
     "output_type": "execute_result"
    }
   ],
   "source": [
    "jaccard_distance(\"mongo\",'Mango')"
   ]
  },
  {
   "cell_type": "code",
   "execution_count": 86,
   "id": "4def449b",
   "metadata": {},
   "outputs": [
    {
     "data": {
      "text/plain": [
       "0.7777777777777778"
      ]
     },
     "execution_count": 86,
     "metadata": {},
     "output_type": "execute_result"
    }
   ],
   "source": [
    "jaccard_distance(\"mango\",'Python')"
   ]
  },
  {
   "cell_type": "markdown",
   "id": "a6a63b68",
   "metadata": {},
   "source": [
    "### Task 2/C - spelling recommendation\n",
    "    - create a list of correct spelling as vocabulary\n",
    "    - mydic  = ['mango','apple','grapes','banana','gvava']\n",
    "    - create a function - recommend()\n",
    "    - the function takes one word as input\n",
    "    - it uses for loop to calculate distance with each word in the mydic list\n",
    "    - returns the word having minimum distance as recommendation"
   ]
  },
  {
   "cell_type": "code",
   "execution_count": 102,
   "id": "3bf37e52",
   "metadata": {},
   "outputs": [],
   "source": [
    "def recommend(word):\n",
    "    mydic = ['mango','apple','grapes','banana','gvava']\n",
    "    ans = \"\"\n",
    "    dist = 1\n",
    "    for w in mydic:\n",
    "        jd = jaccard_distance(w,word)\n",
    "        if jd<dist:\n",
    "            dist = jd\n",
    "            ans = w\n",
    "    if dist > 0.5:\n",
    "        return \"couldn't find something closer\"\n",
    "    return ans    "
   ]
  },
  {
   "cell_type": "code",
   "execution_count": 106,
   "id": "969ce291",
   "metadata": {},
   "outputs": [
    {
     "data": {
      "text/plain": [
       "'apple'"
      ]
     },
     "execution_count": 106,
     "metadata": {},
     "output_type": "execute_result"
    }
   ],
   "source": [
    "recommend(\"applo\")"
   ]
  },
  {
   "cell_type": "code",
   "execution_count": null,
   "id": "de58853d",
   "metadata": {},
   "outputs": [],
   "source": []
  }
 ],
 "metadata": {
  "kernelspec": {
   "display_name": "Python 3",
   "language": "python",
   "name": "python3"
  },
  "language_info": {
   "codemirror_mode": {
    "name": "ipython",
    "version": 3
   },
   "file_extension": ".py",
   "mimetype": "text/x-python",
   "name": "python",
   "nbconvert_exporter": "python",
   "pygments_lexer": "ipython3",
   "version": "3.8.8"
  }
 },
 "nbformat": 4,
 "nbformat_minor": 5
}
