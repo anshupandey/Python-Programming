{
 "cells": [
  {
   "cell_type": "markdown",
   "id": "8f012645",
   "metadata": {},
   "source": [
    "# Working with sqlite database"
   ]
  },
  {
   "cell_type": "code",
   "execution_count": 1,
   "id": "a35b2a58",
   "metadata": {},
   "outputs": [],
   "source": [
    "import sqlite3"
   ]
  },
  {
   "cell_type": "code",
   "execution_count": 2,
   "id": "1b2e3cb5",
   "metadata": {},
   "outputs": [],
   "source": [
    "# creating a new database or connecting to existing database\n",
    "conn = sqlite3.connect(\"mydatabase.db\")"
   ]
  },
  {
   "cell_type": "code",
   "execution_count": 3,
   "id": "d331542f",
   "metadata": {},
   "outputs": [],
   "source": [
    "# creating a table in a database"
   ]
  },
  {
   "cell_type": "code",
   "execution_count": 5,
   "id": "8c14d0fb",
   "metadata": {},
   "outputs": [
    {
     "data": {
      "text/plain": [
       "<sqlite3.Cursor at 0x26b49f2e3b0>"
      ]
     },
     "execution_count": 5,
     "metadata": {},
     "output_type": "execute_result"
    }
   ],
   "source": [
    "query = \"create table if not exists customers( cid number primary key not null, name text not null, city text, age number, gender text);\"\n",
    "\n",
    "conn.execute(query)"
   ]
  },
  {
   "cell_type": "code",
   "execution_count": 8,
   "id": "09cbab8b",
   "metadata": {},
   "outputs": [],
   "source": [
    "# inserting data in a table\n",
    "query = \"insert into customers (cid,name,city,age,gender) values (?,?,?,?,?);\""
   ]
  },
  {
   "cell_type": "code",
   "execution_count": 9,
   "id": "dfc3d248",
   "metadata": {},
   "outputs": [
    {
     "data": {
      "text/plain": [
       "<sqlite3.Cursor at 0x26b49f2eb90>"
      ]
     },
     "execution_count": 9,
     "metadata": {},
     "output_type": "execute_result"
    }
   ],
   "source": [
    "conn.execute(query,(1,\"Anshu\",'Delhi',45,'Male'))"
   ]
  },
  {
   "cell_type": "code",
   "execution_count": 10,
   "id": "ebaafe06",
   "metadata": {},
   "outputs": [
    {
     "data": {
      "text/plain": [
       "<sqlite3.Cursor at 0x26b49f2eea0>"
      ]
     },
     "execution_count": 10,
     "metadata": {},
     "output_type": "execute_result"
    }
   ],
   "source": [
    "conn.execute(query,(2,\"John\",'Delhi',23,'Male'))"
   ]
  },
  {
   "cell_type": "code",
   "execution_count": 11,
   "id": "39c65a2f",
   "metadata": {},
   "outputs": [
    {
     "data": {
      "text/plain": [
       "<sqlite3.Cursor at 0x26b49f441f0>"
      ]
     },
     "execution_count": 11,
     "metadata": {},
     "output_type": "execute_result"
    }
   ],
   "source": [
    "conn.execute(query,(3,\"Fitria\",'Jakarta',22,'Female'))\n"
   ]
  },
  {
   "cell_type": "code",
   "execution_count": 14,
   "id": "8c1ec497",
   "metadata": {},
   "outputs": [
    {
     "name": "stdout",
     "output_type": "stream",
     "text": [
      "(1, 'Anshu', 'Delhi', 45, 'Male')\n",
      "(2, 'John', 'Delhi', 23, 'Male')\n",
      "(3, 'Fitria', 'Jakarta', 22, 'Female')\n"
     ]
    }
   ],
   "source": [
    "# fetching data form the database\n",
    "query = \"select * from customers\"\n",
    "data = conn.execute(query)\n",
    "for i in data:\n",
    "    print(i)"
   ]
  },
  {
   "cell_type": "code",
   "execution_count": 15,
   "id": "dbb915c4",
   "metadata": {},
   "outputs": [],
   "source": [
    "import pandas as pd"
   ]
  },
  {
   "cell_type": "code",
   "execution_count": 16,
   "id": "40d2b4b9",
   "metadata": {},
   "outputs": [],
   "source": [
    "df = pd.read_sql_query(query,conn)"
   ]
  },
  {
   "cell_type": "code",
   "execution_count": 17,
   "id": "496ace74",
   "metadata": {},
   "outputs": [
    {
     "data": {
      "text/html": [
       "<div>\n",
       "<style scoped>\n",
       "    .dataframe tbody tr th:only-of-type {\n",
       "        vertical-align: middle;\n",
       "    }\n",
       "\n",
       "    .dataframe tbody tr th {\n",
       "        vertical-align: top;\n",
       "    }\n",
       "\n",
       "    .dataframe thead th {\n",
       "        text-align: right;\n",
       "    }\n",
       "</style>\n",
       "<table border=\"1\" class=\"dataframe\">\n",
       "  <thead>\n",
       "    <tr style=\"text-align: right;\">\n",
       "      <th></th>\n",
       "      <th>cid</th>\n",
       "      <th>name</th>\n",
       "      <th>city</th>\n",
       "      <th>age</th>\n",
       "      <th>gender</th>\n",
       "    </tr>\n",
       "  </thead>\n",
       "  <tbody>\n",
       "    <tr>\n",
       "      <th>0</th>\n",
       "      <td>1</td>\n",
       "      <td>Anshu</td>\n",
       "      <td>Delhi</td>\n",
       "      <td>45</td>\n",
       "      <td>Male</td>\n",
       "    </tr>\n",
       "    <tr>\n",
       "      <th>1</th>\n",
       "      <td>2</td>\n",
       "      <td>John</td>\n",
       "      <td>Delhi</td>\n",
       "      <td>23</td>\n",
       "      <td>Male</td>\n",
       "    </tr>\n",
       "    <tr>\n",
       "      <th>2</th>\n",
       "      <td>3</td>\n",
       "      <td>Fitria</td>\n",
       "      <td>Jakarta</td>\n",
       "      <td>22</td>\n",
       "      <td>Female</td>\n",
       "    </tr>\n",
       "  </tbody>\n",
       "</table>\n",
       "</div>"
      ],
      "text/plain": [
       "   cid    name     city  age  gender\n",
       "0    1   Anshu    Delhi   45    Male\n",
       "1    2    John    Delhi   23    Male\n",
       "2    3  Fitria  Jakarta   22  Female"
      ]
     },
     "execution_count": 17,
     "metadata": {},
     "output_type": "execute_result"
    }
   ],
   "source": [
    "df"
   ]
  },
  {
   "cell_type": "code",
   "execution_count": null,
   "id": "3b64fb16",
   "metadata": {},
   "outputs": [],
   "source": []
  }
 ],
 "metadata": {
  "kernelspec": {
   "display_name": "Python 3",
   "language": "python",
   "name": "python3"
  },
  "language_info": {
   "codemirror_mode": {
    "name": "ipython",
    "version": 3
   },
   "file_extension": ".py",
   "mimetype": "text/x-python",
   "name": "python",
   "nbconvert_exporter": "python",
   "pygments_lexer": "ipython3",
   "version": "3.8.8"
  }
 },
 "nbformat": 4,
 "nbformat_minor": 5
}
