{
 "cells": [
  {
   "cell_type": "markdown",
   "id": "9fb53fc7",
   "metadata": {},
   "source": [
    "# Serial Communication with Python - bluetooth"
   ]
  },
  {
   "cell_type": "markdown",
   "id": "880e0e4d",
   "metadata": {},
   "source": [
    "### Step 1\n",
    "    - Install the android bluetooth serial clinet in the android device from - https://play.google.com/store/apps/details?id=de.kai_morich.serial_bluetooth_terminal&hl=en_IN&gl=US\n",
    "        \n",
    "\n",
    "### step 2\n",
    "    - pair your android device with PC (windows machine)\n",
    "    \n",
    "### Step 3\n",
    "    - Get the bluetooth comport from Windows PC - COM3\n",
    "    \n",
    "    \n",
    "### Step 4\n",
    "    -  install pyserial using - pip install pyserial\n",
    "    - Write python code to intialize communication"
   ]
  },
  {
   "cell_type": "code",
   "execution_count": null,
   "id": "07bcf6ae",
   "metadata": {},
   "outputs": [],
   "source": [
    "!pip install pyserial"
   ]
  },
  {
   "cell_type": "code",
   "execution_count": 2,
   "id": "4d14c2a4",
   "metadata": {},
   "outputs": [],
   "source": [
    "import serial"
   ]
  },
  {
   "cell_type": "code",
   "execution_count": 3,
   "id": "8a1f3a9b",
   "metadata": {
    "collapsed": true
   },
   "outputs": [
    {
     "name": "stdout",
     "output_type": "stream",
     "text": [
      "COM3\n"
     ]
    }
   ],
   "source": [
    "# open a serial port\n",
    "s = serial.Serial(\"COM3\")\n",
    "print(s.name)"
   ]
  },
  {
   "cell_type": "markdown",
   "id": "9911661a",
   "metadata": {},
   "source": [
    "## Step 5\n",
    "    - In the app, navigate to menu on top left corner >> Devices >> select the name of machine to connect\n",
    "    "
   ]
  },
  {
   "cell_type": "code",
   "execution_count": 4,
   "id": "980908bf",
   "metadata": {},
   "outputs": [
    {
     "data": {
      "text/plain": [
       "34"
      ]
     },
     "execution_count": 4,
     "metadata": {},
     "output_type": "execute_result"
    }
   ],
   "source": [
    "# sending data via serial communication\n",
    "s.write(b\"Hey Hello, how are you doing today\")"
   ]
  },
  {
   "cell_type": "code",
   "execution_count": 6,
   "id": "e52fed9b",
   "metadata": {},
   "outputs": [
    {
     "data": {
      "text/plain": [
       "3"
      ]
     },
     "execution_count": 6,
     "metadata": {},
     "output_type": "execute_result"
    }
   ],
   "source": [
    "s.write(b\"hi\\n\")"
   ]
  },
  {
   "cell_type": "code",
   "execution_count": 12,
   "id": "29910a31",
   "metadata": {},
   "outputs": [
    {
     "data": {
      "text/plain": [
       "10"
      ]
     },
     "execution_count": 12,
     "metadata": {},
     "output_type": "execute_result"
    }
   ],
   "source": [
    "s.write(b\"Hey hello\\n\")"
   ]
  },
  {
   "cell_type": "code",
   "execution_count": null,
   "id": "4eb99fea",
   "metadata": {
    "scrolled": true
   },
   "outputs": [
    {
     "name": "stdout",
     "output_type": "stream",
     "text": [
      "b'hiii\\r\\n'\n",
      "b'how are you\\r\\n'\n",
      "b'i am good\\r\\n'\n",
      "b'hey i am the smartphone\\r\\n'\n"
     ]
    }
   ],
   "source": [
    "while True:\n",
    "    data = s.readline()\n",
    "    if data:\n",
    "        print(data)"
   ]
  },
  {
   "cell_type": "code",
   "execution_count": null,
   "id": "9bfa4685",
   "metadata": {},
   "outputs": [],
   "source": [
    "s.close()"
   ]
  },
  {
   "cell_type": "code",
   "execution_count": null,
   "id": "10400cc8",
   "metadata": {},
   "outputs": [],
   "source": []
  }
 ],
 "metadata": {
  "kernelspec": {
   "display_name": "Python 3",
   "language": "python",
   "name": "python3"
  },
  "language_info": {
   "codemirror_mode": {
    "name": "ipython",
    "version": 3
   },
   "file_extension": ".py",
   "mimetype": "text/x-python",
   "name": "python",
   "nbconvert_exporter": "python",
   "pygments_lexer": "ipython3",
   "version": "3.8.8"
  }
 },
 "nbformat": 4,
 "nbformat_minor": 5
}
