{
 "cells": [
  {
   "cell_type": "markdown",
   "id": "07f053c1",
   "metadata": {},
   "source": [
    "# Working with Regular Expressions"
   ]
  },
  {
   "cell_type": "code",
   "execution_count": 1,
   "id": "314462b3",
   "metadata": {},
   "outputs": [],
   "source": [
    "import re"
   ]
  },
  {
   "cell_type": "code",
   "execution_count": 2,
   "id": "6c6461cd",
   "metadata": {},
   "outputs": [
    {
     "name": "stdout",
     "output_type": "stream",
     "text": [
      "my mobile number 9898989898 and his mobile is 9878465567 what is yours?\n"
     ]
    }
   ],
   "source": [
    "data = \"my mobile number 9898989898 and his mobile is 9878465567 what is yours?\"\n",
    "print(data)"
   ]
  },
  {
   "cell_type": "code",
   "execution_count": 3,
   "id": "e8dc10d6",
   "metadata": {},
   "outputs": [
    {
     "data": {
      "text/plain": [
       "['9898989898', '9878465567']"
      ]
     },
     "execution_count": 3,
     "metadata": {},
     "output_type": "execute_result"
    }
   ],
   "source": [
    "pattern = \"\\d\\d\\d\\d\\d\\d\\d\\d\\d\\d\"\n",
    "# information retrival\n",
    "re.findall(pattern,data)"
   ]
  },
  {
   "cell_type": "code",
   "execution_count": 4,
   "id": "91f93862",
   "metadata": {},
   "outputs": [
    {
     "data": {
      "text/plain": [
       "['9898989898', '9878465567']"
      ]
     },
     "execution_count": 4,
     "metadata": {},
     "output_type": "execute_result"
    }
   ],
   "source": [
    "pattern = \"[0-9]{10}\" # [0-9] anything between 0 to 9, {10} - size of text to be of 10 letters\n",
    "re.findall(pattern,data)"
   ]
  },
  {
   "cell_type": "code",
   "execution_count": 5,
   "id": "14df294f",
   "metadata": {},
   "outputs": [
    {
     "data": {
      "text/plain": [
       "'my mobile number ********** and his mobile is ********** what is yours?'"
      ]
     },
     "execution_count": 5,
     "metadata": {},
     "output_type": "execute_result"
    }
   ],
   "source": [
    "# information masking\n",
    "re.sub(pattern,\"**********\",data)"
   ]
  },
  {
   "cell_type": "code",
   "execution_count": 6,
   "id": "eda8bc12",
   "metadata": {},
   "outputs": [
    {
     "data": {
      "text/plain": [
       "'my mobile number  and his mobile is  what is yours?'"
      ]
     },
     "execution_count": 6,
     "metadata": {},
     "output_type": "execute_result"
    }
   ],
   "source": [
    "# text cleaning\n",
    "re.sub(pattern,\"\",data)"
   ]
  },
  {
   "cell_type": "code",
   "execution_count": 7,
   "id": "7106d41a",
   "metadata": {},
   "outputs": [
    {
     "name": "stdout",
     "output_type": "stream",
     "text": [
      "my birthday is 12-05-1990 your birthday is 30-02-1989 and his birthday is 05-7-1988 and his friend's bday is 10/6/1990 when is your birthday. please email me at anshu@mycompany.com and also keep john.hr_123@gmail.com in cc and you can include manager_notavailable@mycompany.com as well.\n"
     ]
    }
   ],
   "source": [
    "data = \"my birthday is 12-05-1990 your birthday is 30-02-1989 and his birthday is 05-7-1988 and his friend's bday is 10/6/1990 when is your birthday. please email me at anshu@mycompany.com and also keep john.hr_123@gmail.com in cc and you can include manager_notavailable@mycompany.com as well.\"\n",
    "print(data)"
   ]
  },
  {
   "cell_type": "code",
   "execution_count": 8,
   "id": "34109d60",
   "metadata": {},
   "outputs": [
    {
     "data": {
      "text/plain": [
       "['12-05-1990', '30-02-1989']"
      ]
     },
     "execution_count": 8,
     "metadata": {},
     "output_type": "execute_result"
    }
   ],
   "source": [
    "pattern = \"[0-9]{2}-[0-9]{2}-[0-9]{4}\"\n",
    "re.findall(pattern,data)"
   ]
  },
  {
   "cell_type": "code",
   "execution_count": 9,
   "id": "0ef080b8",
   "metadata": {},
   "outputs": [
    {
     "data": {
      "text/plain": [
       "['12-05-1990', '30-02-1989', '05-7-1988']"
      ]
     },
     "execution_count": 9,
     "metadata": {},
     "output_type": "execute_result"
    }
   ],
   "source": [
    "pattern = \"[0-9]{1,2}-[0-9]{1,2}-[0-9]{4}\"\n",
    "re.findall(pattern,data)"
   ]
  },
  {
   "cell_type": "code",
   "execution_count": 12,
   "id": "e82ddf2e",
   "metadata": {},
   "outputs": [
    {
     "data": {
      "text/plain": [
       "['12-05-1990', '30-02-1989', '05-7-1988', '10/6/1990']"
      ]
     },
     "execution_count": 12,
     "metadata": {},
     "output_type": "execute_result"
    }
   ],
   "source": [
    "pattern = \"[0-9]{1,2}-[0-9]{1,2}-[0-9]{4}|[0-9]{1,2}/[0-9]{1,2}/[0-9]{4}\"\n",
    "re.findall(pattern,data)"
   ]
  },
  {
   "cell_type": "code",
   "execution_count": 14,
   "id": "171cd60e",
   "metadata": {},
   "outputs": [
    {
     "data": {
      "text/plain": [
       "['anshu@mycompany.com',\n",
       " 'john.hr_123@gmail.com',\n",
       " 'manager_notavailable@mycompany.com']"
      ]
     },
     "execution_count": 14,
     "metadata": {},
     "output_type": "execute_result"
    }
   ],
   "source": [
    "pattern = \"[a-zA-Z0-9._]+@[a-zA-Z0-9._]+\"\n",
    "\n",
    "# a-z = anything between small case a to small case z\n",
    "# A-Z - anything between capital A to capital Z\n",
    "# . = if you find \".\"\n",
    "# _ = if you find \"_\"\n",
    "# + = for repeatation\n",
    "re.findall(pattern,data)"
   ]
  },
  {
   "cell_type": "code",
   "execution_count": 15,
   "id": "e010e3d8",
   "metadata": {},
   "outputs": [
    {
     "name": "stdout",
     "output_type": "stream",
     "text": [
      "my website is https://github.com/anshupandey/xebia_training_data/blob/main/datasets/datawh_missing.csv and his website is https://www.google.com/ what is yours\n"
     ]
    }
   ],
   "source": [
    "data = \"my website is https://github.com/anshupandey/xebia_training_data/blob/main/datasets/datawh_missing.csv and his website is https://www.google.com/ what is yours\"\n",
    "print(data)"
   ]
  },
  {
   "cell_type": "code",
   "execution_count": 17,
   "id": "53097e36",
   "metadata": {},
   "outputs": [
    {
     "data": {
      "text/plain": [
       "['https://github.com/anshupandey/xebia_training_data/blob/main/datasets/datawh_missing.csv',\n",
       " 'https://www.google.com/']"
      ]
     },
     "execution_count": 17,
     "metadata": {},
     "output_type": "execute_result"
    }
   ],
   "source": [
    "pattern = \"http[a-zA-Z0-9._\\-\\/:]+\"\n",
    "re.findall(pattern,data)"
   ]
  },
  {
   "cell_type": "markdown",
   "id": "fb7e6570",
   "metadata": {},
   "source": [
    "## Grouping with REGEX"
   ]
  },
  {
   "cell_type": "markdown",
   "id": "c46a9728",
   "metadata": {},
   "source": [
    "    () - used to create a group\n",
    "    <> - used to create a named group\n",
    "    \\w = [0-9a-zA-Z_]\n"
   ]
  },
  {
   "cell_type": "code",
   "execution_count": 19,
   "id": "c7544b58",
   "metadata": {},
   "outputs": [
    {
     "data": {
      "text/plain": [
       "['anshu@xebia.com']"
      ]
     },
     "execution_count": 19,
     "metadata": {},
     "output_type": "execute_result"
    }
   ],
   "source": [
    "data = \"please drop me an email at anshu@xebia.com thank you\"\n",
    "\n",
    "pattern = \"[0-9a-zA-Z._]+@[0-9a-zA-Z._]+\"\n",
    "re.findall(pattern,data)"
   ]
  },
  {
   "cell_type": "code",
   "execution_count": 20,
   "id": "aaa9019a",
   "metadata": {},
   "outputs": [
    {
     "data": {
      "text/plain": [
       "['anshu@xebia.com']"
      ]
     },
     "execution_count": 20,
     "metadata": {},
     "output_type": "execute_result"
    }
   ],
   "source": [
    "data = \"please drop me an email at anshu@xebia.com thank you\"\n",
    "\n",
    "pattern = \"[\\w.]+@[\\w.]+\"\n",
    "re.findall(pattern,data)"
   ]
  },
  {
   "cell_type": "code",
   "execution_count": 21,
   "id": "f72ce249",
   "metadata": {},
   "outputs": [
    {
     "data": {
      "text/plain": [
       "<re.Match object; span=(27, 42), match='anshu@xebia.com'>"
      ]
     },
     "execution_count": 21,
     "metadata": {},
     "output_type": "execute_result"
    }
   ],
   "source": [
    "re.search(pattern,data)"
   ]
  },
  {
   "cell_type": "code",
   "execution_count": 22,
   "id": "af7bd25e",
   "metadata": {},
   "outputs": [
    {
     "name": "stdout",
     "output_type": "stream",
     "text": [
      "anshu@xebia.com\n"
     ]
    }
   ],
   "source": [
    "pattern = \"([\\w.]+)@([\\w.]+)\"\n",
    "match = re.search(pattern,data)\n",
    "print(match.group())"
   ]
  },
  {
   "cell_type": "code",
   "execution_count": 23,
   "id": "c53341b8",
   "metadata": {},
   "outputs": [
    {
     "name": "stdout",
     "output_type": "stream",
     "text": [
      "anshu\n"
     ]
    }
   ],
   "source": [
    "print(match.group(1))"
   ]
  },
  {
   "cell_type": "code",
   "execution_count": 24,
   "id": "802a2a27",
   "metadata": {},
   "outputs": [
    {
     "name": "stdout",
     "output_type": "stream",
     "text": [
      "xebia.com\n"
     ]
    }
   ],
   "source": [
    "print(match.group(2))"
   ]
  },
  {
   "cell_type": "code",
   "execution_count": null,
   "id": "f01ccbeb",
   "metadata": {},
   "outputs": [],
   "source": []
  }
 ],
 "metadata": {
  "kernelspec": {
   "display_name": "Python 3",
   "language": "python",
   "name": "python3"
  },
  "language_info": {
   "codemirror_mode": {
    "name": "ipython",
    "version": 3
   },
   "file_extension": ".py",
   "mimetype": "text/x-python",
   "name": "python",
   "nbconvert_exporter": "python",
   "pygments_lexer": "ipython3",
   "version": "3.8.8"
  }
 },
 "nbformat": 4,
 "nbformat_minor": 5
}
