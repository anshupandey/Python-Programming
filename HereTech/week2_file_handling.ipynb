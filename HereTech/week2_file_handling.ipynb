{
 "cells": [
  {
   "cell_type": "markdown",
   "metadata": {},
   "source": [
    "## File Handling\n",
    "#### Write data to a new file"
   ]
  },
  {
   "cell_type": "code",
   "execution_count": 24,
   "metadata": {},
   "outputs": [],
   "source": [
    "file = open(\"mydata.txt\",mode='w') # w = write mode\n",
    "\n",
    "# Note: whenever you create a file object in write mode, it either creates a new file in disk or overwrites existing one\n",
    "data = \"Hi My name is Anshu, How are you doing today?\"\n",
    "\n",
    "file.write(data)\n",
    "# releasing the file resource\n",
    "file.close()"
   ]
  },
  {
   "cell_type": "markdown",
   "metadata": {},
   "source": [
    "#### append some data to an existing file"
   ]
  },
  {
   "cell_type": "code",
   "execution_count": 25,
   "metadata": {},
   "outputs": [],
   "source": [
    "file = open(\"mydata.txt\",mode='a')# a = append mode\n",
    "# Note: In append mode, the file has to already exist, other wise it will throw FileNotFound error\n",
    "# Note: in append mode, it always appends new data below old data in the file\n",
    "file.write(\"\\n Hey this is Marco, I am good. how are you\")\n",
    "file.close()"
   ]
  },
  {
   "cell_type": "markdown",
   "metadata": {},
   "source": [
    "#### Reading data from a file"
   ]
  },
  {
   "cell_type": "code",
   "execution_count": 26,
   "metadata": {},
   "outputs": [],
   "source": [
    "file = open(\"mydata.txt\",mode='r') # r= read mode\n",
    "data = file.read() # reading whole content of the file as a single string\n",
    "file.close()\n"
   ]
  },
  {
   "cell_type": "code",
   "execution_count": 27,
   "metadata": {},
   "outputs": [
    {
     "name": "stdout",
     "output_type": "stream",
     "text": [
      "Hi My name is Anshu, How are you doing today?\n",
      " Hey this is Marco, I am good. how are you\n"
     ]
    }
   ],
   "source": [
    "print(data)"
   ]
  },
  {
   "cell_type": "code",
   "execution_count": 28,
   "metadata": {},
   "outputs": [
    {
     "name": "stdout",
     "output_type": "stream",
     "text": [
      "['Hi My name is Anshu, How are you doing today?\\n', ' Hey this is Marco, I am good. how are you']\n"
     ]
    }
   ],
   "source": [
    "file = open(\"mydata.txt\",mode='r') # r= read mode\n",
    "data = file.readlines() # reading whole content of the file as a list of string, where each line is a string \n",
    "file.close()\n",
    "print(data)"
   ]
  },
  {
   "cell_type": "code",
   "execution_count": null,
   "metadata": {},
   "outputs": [],
   "source": []
  },
  {
   "cell_type": "markdown",
   "metadata": {},
   "source": [
    "### Read and Write data to a file"
   ]
  },
  {
   "cell_type": "code",
   "execution_count": 29,
   "metadata": {},
   "outputs": [
    {
     "name": "stdout",
     "output_type": "stream",
     "text": [
      "Hi My name is Anshu, How are you doing today?\n",
      " Hey this is Marco, I am good. how are you\n"
     ]
    }
   ],
   "source": [
    "file = open(\"mydata.txt\",mode='r+') # r+ = read and write\n",
    "data = file.read()\n",
    "print(data)\n",
    "# Note: whenever you create a file object in write mode, it either creates a new file in disk or overwrites existing one\n",
    "data = data + \"Hey I am the new data\"\n",
    "# a new file will be created after below command"
   ]
  },
  {
   "cell_type": "code",
   "execution_count": 30,
   "metadata": {},
   "outputs": [],
   "source": [
    "file.write(data)\n",
    "# releasing the file resource\n",
    "file.close()"
   ]
  },
  {
   "cell_type": "code",
   "execution_count": 32,
   "metadata": {},
   "outputs": [
    {
     "name": "stdout",
     "output_type": "stream",
     "text": [
      "Hi My name is Anshu, How are you doing today?\n",
      " Hey this is Marco, I am good. how are youHi My name is Anshu, How are you doing today?\n",
      " Hey this is Marco, I am good. how are youHey I am the new data\n"
     ]
    }
   ],
   "source": [
    "file = open(\"mydata.txt\",mode='r') # r= read mode\n",
    "data = file.read() # reading whole content of the file as a single string\n",
    "file.close()\n",
    "print(data)"
   ]
  },
  {
   "cell_type": "code",
   "execution_count": null,
   "metadata": {},
   "outputs": [],
   "source": []
  }
 ],
 "metadata": {
  "kernelspec": {
   "display_name": "Python 3.9.7 ('base')",
   "language": "python",
   "name": "python3"
  },
  "language_info": {
   "codemirror_mode": {
    "name": "ipython",
    "version": 3
   },
   "file_extension": ".py",
   "mimetype": "text/x-python",
   "name": "python",
   "nbconvert_exporter": "python",
   "pygments_lexer": "ipython3",
   "version": "3.9.7"
  },
  "orig_nbformat": 4,
  "vscode": {
   "interpreter": {
    "hash": "610a6f344c2137faf927ea819c63f6cee33a2c04455044b28099f39fe9722347"
   }
  }
 },
 "nbformat": 4,
 "nbformat_minor": 2
}
