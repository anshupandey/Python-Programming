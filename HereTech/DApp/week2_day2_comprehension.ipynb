{
 "cells": [
  {
   "cell_type": "markdown",
   "metadata": {},
   "source": [
    "## Pythonic way of coding: Comprehension"
   ]
  },
  {
   "cell_type": "code",
   "execution_count": 1,
   "metadata": {},
   "outputs": [
    {
     "name": "stdout",
     "output_type": "stream",
     "text": [
      "['Dubai', 'Delhi', 'Dublin', 'Sydney', 'London']\n"
     ]
    }
   ],
   "source": [
    "cities = ['Dubai','Delhi','Dublin','Jakarta','Johanesberg','Sydney','London','Mumbai','Bangalore']\n",
    "\n",
    "# get the list of cities having d letter in it\n",
    "\n",
    "\n",
    "# without comprehension\n",
    "dcities = []\n",
    "\n",
    "for city in cities:\n",
    "    if 'd' in city.lower():\n",
    "        dcities.append(city)\n",
    "\n",
    "print(dcities)\n"
   ]
  },
  {
   "cell_type": "code",
   "execution_count": 2,
   "metadata": {},
   "outputs": [
    {
     "name": "stdout",
     "output_type": "stream",
     "text": [
      "['Dubai', 'Delhi', 'Dublin', 'Sydney', 'London']\n"
     ]
    }
   ],
   "source": [
    "# With comprehension\n",
    "\n",
    "dcities2 = [city for city in cities if 'd' in city.lower()]\n",
    "print(dcities2)"
   ]
  },
  {
   "cell_type": "code",
   "execution_count": 3,
   "metadata": {},
   "outputs": [
    {
     "name": "stdout",
     "output_type": "stream",
     "text": [
      "['dubai', 'delhi', 'dublin', 'jakarta', 'johanesberg', 'sydney', 'london', 'mumbai', 'bangalore']\n"
     ]
    }
   ],
   "source": [
    "# Use comprehension to covert all city names into lowercase\n",
    "lowercities = [c.lower() for c in cities]\n",
    "print(lowercities)"
   ]
  },
  {
   "cell_type": "markdown",
   "metadata": {},
   "source": [
    "Template 1 - data transformation\n",
    "\n",
    "    [f(x) for x in mylist]\n",
    "\n",
    "Template 2 - filtering\n",
    "\n",
    "    [f(x) for x in mylist if condition]\n",
    "\n",
    "Template 3 - conditional transformation\n",
    "\n",
    "    [f(x) if condition else g(x) for x in mylist]"
   ]
  },
  {
   "cell_type": "code",
   "execution_count": 4,
   "metadata": {},
   "outputs": [
    {
     "name": "stdout",
     "output_type": "stream",
     "text": [
      "[4, 16, 25, 36, 9, 4, 25, 81, 64, 16, 4]\n"
     ]
    }
   ],
   "source": [
    "mylist = [2,4,5,6,3,2,5,9,8,4,2]\n",
    "\n",
    "# get square of all values in a new list : sqmylist\n",
    "# use template 1\n",
    "sqmylist = [k**2 for k in mylist]\n",
    "print(sqmylist)"
   ]
  },
  {
   "cell_type": "code",
   "execution_count": 5,
   "metadata": {},
   "outputs": [
    {
     "name": "stdout",
     "output_type": "stream",
     "text": [
      "[2, 4, 6, 2, 8, 4, 2]\n"
     ]
    }
   ],
   "source": [
    "# get only even numbers (numbers which are divisible by 2)\n",
    "evenlist = [k for k in mylist if k%2==0]\n",
    "print(evenlist)"
   ]
  },
  {
   "cell_type": "code",
   "execution_count": 6,
   "metadata": {},
   "outputs": [
    {
     "name": "stdout",
     "output_type": "stream",
     "text": [
      "[4, 16, 125, 36, 27, 4, 125, 729, 64, 16, 4]\n"
     ]
    }
   ],
   "source": [
    "# conditional transformation: get square of even numbers and cube of odd numbers\n",
    "newlist = [k**2 if k%2==0 else k**3 for k in mylist]\n",
    "print(newlist)"
   ]
  },
  {
   "cell_type": "code",
   "execution_count": 1,
   "metadata": {},
   "outputs": [
    {
     "data": {
      "text/plain": [
       "0"
      ]
     },
     "execution_count": 1,
     "metadata": {},
     "output_type": "execute_result"
    }
   ],
   "source": [
    "10%2"
   ]
  },
  {
   "cell_type": "code",
   "execution_count": 2,
   "metadata": {},
   "outputs": [
    {
     "data": {
      "text/plain": [
       "1"
      ]
     },
     "execution_count": 2,
     "metadata": {},
     "output_type": "execute_result"
    }
   ],
   "source": [
    "15%2"
   ]
  },
  {
   "cell_type": "markdown",
   "metadata": {},
   "source": [
    "## Task\n",
    "Given below list\n",
    "       \n",
    "        mylist = ['Dubai','Dublin','Delhi','Chennai','Mumbai','Melbourne','Wellington']\n",
    "    \n",
    "1. create a new list for cities starting with letter 'D'\n",
    "2. Convert all the cities starting with 'D' into uppercase and rest into lowercase\n",
    "3. Create a new list for cities having information about number of letters in the city name "
   ]
  },
  {
   "cell_type": "code",
   "execution_count": 3,
   "metadata": {},
   "outputs": [
    {
     "data": {
      "text/plain": [
       "7"
      ]
     },
     "execution_count": 3,
     "metadata": {},
     "output_type": "execute_result"
    }
   ],
   "source": [
    "k = 'Jakarta'\n",
    "len(k)"
   ]
  },
  {
   "cell_type": "code",
   "execution_count": 5,
   "metadata": {},
   "outputs": [
    {
     "name": "stdout",
     "output_type": "stream",
     "text": [
      "['Dubai', 'Dublin', 'Delhi']\n"
     ]
    }
   ],
   "source": [
    "cities = ['Dubai','Dublin','Delhi','Chennai','Mumbai','Melbourne','Wellington']\n",
    "\n",
    "# get the list of cities starting d letter in it\n",
    "\n",
    "\n",
    "# without comprehension\n",
    "dcities = []\n",
    "\n",
    "for city in cities:\n",
    "    if city.lower()[0]=='d':\n",
    "        dcities.append(city)\n",
    "print(dcities)\n"
   ]
  },
  {
   "cell_type": "code",
   "execution_count": 6,
   "metadata": {},
   "outputs": [
    {
     "name": "stdout",
     "output_type": "stream",
     "text": [
      "[]\n"
     ]
    }
   ],
   "source": [
    "# task 1: with comprehension\n",
    "dcities = [c for c in cities if c[0].lower=='d']\n",
    "print(dcities)"
   ]
  },
  {
   "cell_type": "code",
   "execution_count": 7,
   "metadata": {},
   "outputs": [
    {
     "name": "stdout",
     "output_type": "stream",
     "text": [
      "['DUBAI', 'DUBLIN', 'DELHI', 'chennai', 'mumbai', 'melbourne', 'wellington']\n"
     ]
    }
   ],
   "source": [
    "# task 2: Convert all the cities starting with 'D' into uppercase and rest into lowercase\n",
    "newcities = [c.upper() if c[0].lower()=='d' else c.lower() for c in cities]\n",
    "print(newcities)"
   ]
  },
  {
   "cell_type": "code",
   "execution_count": 8,
   "metadata": {},
   "outputs": [
    {
     "name": "stdout",
     "output_type": "stream",
     "text": [
      "[5, 6, 5, 7, 6, 9, 10]\n"
     ]
    }
   ],
   "source": [
    "# task 3: Create a new list for cities having information about number of letters in the city name\n",
    "num = [len(c) for c in cities]\n",
    "print(num)"
   ]
  },
  {
   "cell_type": "code",
   "execution_count": 9,
   "metadata": {},
   "outputs": [
    {
     "name": "stdout",
     "output_type": "stream",
     "text": [
      "{'Dubai': 5, 'Dublin': 6, 'Delhi': 5, 'Chennai': 7, 'Mumbai': 6, 'Melbourne': 9, 'Wellington': 10}\n"
     ]
    }
   ],
   "source": [
    "# create a dictionary with city as key, the size of it as value\n",
    "# without comprehension\n",
    "mydict = {}\n",
    "for city in cities:\n",
    "    mydict[city] = len(city)\n",
    "\n",
    "print(mydict)"
   ]
  },
  {
   "cell_type": "code",
   "execution_count": 10,
   "metadata": {},
   "outputs": [
    {
     "name": "stdout",
     "output_type": "stream",
     "text": [
      "{'Dubai': 5, 'Dublin': 6, 'Delhi': 5, 'Chennai': 7, 'Mumbai': 6, 'Melbourne': 9, 'Wellington': 10}\n"
     ]
    }
   ],
   "source": [
    "# with comprehension\n",
    "mydict = {c:len(c) for c in cities}\n",
    "print(mydict)"
   ]
  },
  {
   "cell_type": "code",
   "execution_count": null,
   "metadata": {},
   "outputs": [],
   "source": []
  }
 ],
 "metadata": {
  "kernelspec": {
   "display_name": "Python 3.9.7 ('base')",
   "language": "python",
   "name": "python3"
  },
  "language_info": {
   "codemirror_mode": {
    "name": "ipython",
    "version": 3
   },
   "file_extension": ".py",
   "mimetype": "text/x-python",
   "name": "python",
   "nbconvert_exporter": "python",
   "pygments_lexer": "ipython3",
   "version": "3.9.7"
  },
  "orig_nbformat": 4,
  "vscode": {
   "interpreter": {
    "hash": "610a6f344c2137faf927ea819c63f6cee33a2c04455044b28099f39fe9722347"
   }
  }
 },
 "nbformat": 4,
 "nbformat_minor": 2
}
