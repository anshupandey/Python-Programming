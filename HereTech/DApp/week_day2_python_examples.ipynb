{
 "cells": [
  {
   "cell_type": "markdown",
   "metadata": {},
   "source": [
    "## Sentiment Engine\n",
    "\n",
    "Write  function which can \n",
    "1. accept a string as input argument\n",
    "2. convert the string to a list of words\n",
    "3. Create two lists\n",
    "\n",
    "                plist = ['happy','good','awesome']\n",
    "                nlist = ['bad','sad','poor']\n",
    "4. create two variables, pcount =0 and ncount = 0\n",
    "5. for each word in the string check if it is present in plist, increase the pcount by 1\n",
    "and if it is present in nlist, increase the ncount by 1\n",
    "6. At the end, check if pcount is higher than ncount, return \"overall Positive\", else return \"Overall negative\"\n",
    "7. test the function with some sample strings"
   ]
  },
  {
   "cell_type": "code",
   "execution_count": 1,
   "metadata": {},
   "outputs": [],
   "source": [
    "def get_sentiment(string):\n",
    "    mylist = string.split(' ')\n",
    "    plist = ['happy','good','awesome']\n",
    "    nlist = ['bad','sad','poor']\n",
    "    pcount = 0\n",
    "    ncount = 0\n",
    "    for word in mylist:\n",
    "        if word in plist:\n",
    "            pcount = pcount +1\n",
    "        elif word in nlist:\n",
    "            ncount = ncount + 1\n",
    "    if pcount>ncount:\n",
    "        return \"Positive\"\n",
    "    elif pcount<ncount:\n",
    "        return \"Negative\"\n",
    "    else:\n",
    "        return \"Neutral\"\n"
   ]
  },
  {
   "cell_type": "code",
   "execution_count": 2,
   "metadata": {},
   "outputs": [
    {
     "data": {
      "text/plain": [
       "'Positive'"
      ]
     },
     "execution_count": 2,
     "metadata": {},
     "output_type": "execute_result"
    }
   ],
   "source": [
    "mystr = \"Hello i am happy today that my day went good and i like such days\"\n",
    "get_sentiment(mystr)\n"
   ]
  },
  {
   "cell_type": "code",
   "execution_count": 3,
   "metadata": {},
   "outputs": [
    {
     "data": {
      "text/plain": [
       "'Negative'"
      ]
     },
     "execution_count": 3,
     "metadata": {},
     "output_type": "execute_result"
    }
   ],
   "source": [
    "mystr = \"Hello i am sad today that my day went bad and i dislike such days\"\n",
    "get_sentiment(mystr)\n"
   ]
  },
  {
   "cell_type": "code",
   "execution_count": 4,
   "metadata": {},
   "outputs": [
    {
     "data": {
      "text/plain": [
       "'Positive'"
      ]
     },
     "execution_count": 4,
     "metadata": {},
     "output_type": "execute_result"
    }
   ],
   "source": [
    "data = input(\"How was your day? \")\n",
    "get_sentiment(data)"
   ]
  },
  {
   "cell_type": "code",
   "execution_count": null,
   "metadata": {},
   "outputs": [],
   "source": []
  }
 ],
 "metadata": {
  "kernelspec": {
   "display_name": "Python 3.9.7 ('base')",
   "language": "python",
   "name": "python3"
  },
  "language_info": {
   "codemirror_mode": {
    "name": "ipython",
    "version": 3
   },
   "file_extension": ".py",
   "mimetype": "text/x-python",
   "name": "python",
   "nbconvert_exporter": "python",
   "pygments_lexer": "ipython3",
   "version": "3.9.7"
  },
  "orig_nbformat": 4,
  "vscode": {
   "interpreter": {
    "hash": "610a6f344c2137faf927ea819c63f6cee33a2c04455044b28099f39fe9722347"
   }
  }
 },
 "nbformat": 4,
 "nbformat_minor": 2
}
