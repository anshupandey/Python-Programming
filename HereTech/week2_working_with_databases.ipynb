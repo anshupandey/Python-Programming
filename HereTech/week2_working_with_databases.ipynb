{
 "cells": [
  {
   "cell_type": "markdown",
   "metadata": {},
   "source": [
    "## Working with databses: sqlite3"
   ]
  },
  {
   "cell_type": "code",
   "execution_count": 2,
   "metadata": {},
   "outputs": [],
   "source": [
    "import sqlite3"
   ]
  },
  {
   "cell_type": "code",
   "execution_count": 3,
   "metadata": {},
   "outputs": [],
   "source": [
    "# create a new database or connect to existing database\n",
    "conn = sqlite3.connect(\"mydata.db\")"
   ]
  },
  {
   "cell_type": "code",
   "execution_count": 4,
   "metadata": {},
   "outputs": [
    {
     "data": {
      "text/plain": [
       "<sqlite3.Cursor at 0x1dd9b4eb570>"
      ]
     },
     "execution_count": 4,
     "metadata": {},
     "output_type": "execute_result"
    }
   ],
   "source": [
    "# creating a new table in the database\n",
    "conn.execute(\"create table customers (cid text primary key, name text, age text, city text, email text);\")"
   ]
  },
  {
   "cell_type": "code",
   "execution_count": 5,
   "metadata": {},
   "outputs": [
    {
     "data": {
      "text/plain": [
       "<sqlite3.Cursor at 0x1dd9b4eb420>"
      ]
     },
     "execution_count": 5,
     "metadata": {},
     "output_type": "execute_result"
    }
   ],
   "source": [
    "# inserting some data in customer table\n",
    "insert_query = \"insert into customers (cid,name,age,city,email) values(?,?,?,?,?)\"\n",
    "conn.execute(insert_query,('12345',\"Jason\",\"25\",\"Singapore\",'jason@bac.com'))"
   ]
  },
  {
   "cell_type": "code",
   "execution_count": 6,
   "metadata": {},
   "outputs": [
    {
     "data": {
      "text/plain": [
       "<sqlite3.Cursor at 0x1dd9b4ebe30>"
      ]
     },
     "execution_count": 6,
     "metadata": {},
     "output_type": "execute_result"
    }
   ],
   "source": [
    "# inserting some data in customer table\n",
    "conn.execute(insert_query,('12346',\"John\",\"55\",\"Jakarta\",'john@bac.com'))"
   ]
  },
  {
   "cell_type": "code",
   "execution_count": 8,
   "metadata": {},
   "outputs": [
    {
     "name": "stdout",
     "output_type": "stream",
     "text": [
      "[('12345', 'Jason', '25', 'Singapore', 'jason@bac.com'), ('12346', 'John', '55', 'Jakarta', 'john@bac.com')]\n"
     ]
    }
   ],
   "source": [
    "# explore the existing data\n",
    "cur = conn.cursor()\n",
    "cur.execute(\"select * from customers;\")\n",
    "rows = cur.fetchall()\n",
    "print(rows)"
   ]
  },
  {
   "cell_type": "code",
   "execution_count": 9,
   "metadata": {},
   "outputs": [
    {
     "name": "stdout",
     "output_type": "stream",
     "text": [
      "('12345', 'Jason', '25', 'Singapore', 'jason@bac.com')\n",
      "('12346', 'John', '55', 'Jakarta', 'john@bac.com')\n"
     ]
    }
   ],
   "source": [
    "for row in rows:print(row)"
   ]
  },
  {
   "cell_type": "code",
   "execution_count": 10,
   "metadata": {},
   "outputs": [
    {
     "name": "stdout",
     "output_type": "stream",
     "text": [
      "[('12345', 'Jason', '25', 'Singapore', 'jason@bac.com')]\n"
     ]
    }
   ],
   "source": [
    "# explore the existing data\n",
    "cur = conn.cursor()\n",
    "cur.execute(\"select * from customers where cid=12345;\")\n",
    "rows = cur.fetchall()\n",
    "print(rows)"
   ]
  },
  {
   "cell_type": "code",
   "execution_count": 11,
   "metadata": {},
   "outputs": [
    {
     "data": {
      "text/plain": [
       "<sqlite3.Cursor at 0x1dd9b613180>"
      ]
     },
     "execution_count": 11,
     "metadata": {},
     "output_type": "execute_result"
    }
   ],
   "source": [
    "# inserting some data in customer table\n",
    "conn.execute(insert_query,('12347',\"Jennifer\",\"26\",\"Sydney\",'jennifer@bac.com'))"
   ]
  },
  {
   "cell_type": "code",
   "execution_count": 12,
   "metadata": {},
   "outputs": [
    {
     "name": "stdout",
     "output_type": "stream",
     "text": [
      "('12345', 'Jason', '25', 'Singapore', 'jason@bac.com')\n",
      "('12346', 'John', '55', 'Jakarta', 'john@bac.com')\n",
      "('12347', 'Jennifer', '26', 'Sydney', 'jennifer@bac.com')\n"
     ]
    }
   ],
   "source": [
    "# explore the existing data\n",
    "cur = conn.cursor()\n",
    "cur.execute(\"select * from customers;\")\n",
    "rows = cur.fetchall()\n",
    "for row in rows:print(row)"
   ]
  },
  {
   "cell_type": "code",
   "execution_count": 13,
   "metadata": {},
   "outputs": [],
   "source": [
    "import pandas as pd"
   ]
  },
  {
   "cell_type": "code",
   "execution_count": 14,
   "metadata": {},
   "outputs": [
    {
     "data": {
      "text/html": [
       "<div>\n",
       "<style scoped>\n",
       "    .dataframe tbody tr th:only-of-type {\n",
       "        vertical-align: middle;\n",
       "    }\n",
       "\n",
       "    .dataframe tbody tr th {\n",
       "        vertical-align: top;\n",
       "    }\n",
       "\n",
       "    .dataframe thead th {\n",
       "        text-align: right;\n",
       "    }\n",
       "</style>\n",
       "<table border=\"1\" class=\"dataframe\">\n",
       "  <thead>\n",
       "    <tr style=\"text-align: right;\">\n",
       "      <th></th>\n",
       "      <th>cid</th>\n",
       "      <th>name</th>\n",
       "      <th>age</th>\n",
       "      <th>city</th>\n",
       "      <th>email</th>\n",
       "    </tr>\n",
       "  </thead>\n",
       "  <tbody>\n",
       "    <tr>\n",
       "      <th>0</th>\n",
       "      <td>12345</td>\n",
       "      <td>Jason</td>\n",
       "      <td>25</td>\n",
       "      <td>Singapore</td>\n",
       "      <td>jason@bac.com</td>\n",
       "    </tr>\n",
       "    <tr>\n",
       "      <th>1</th>\n",
       "      <td>12346</td>\n",
       "      <td>John</td>\n",
       "      <td>55</td>\n",
       "      <td>Jakarta</td>\n",
       "      <td>john@bac.com</td>\n",
       "    </tr>\n",
       "    <tr>\n",
       "      <th>2</th>\n",
       "      <td>12347</td>\n",
       "      <td>Jennifer</td>\n",
       "      <td>26</td>\n",
       "      <td>Sydney</td>\n",
       "      <td>jennifer@bac.com</td>\n",
       "    </tr>\n",
       "  </tbody>\n",
       "</table>\n",
       "</div>"
      ],
      "text/plain": [
       "     cid      name age       city             email\n",
       "0  12345     Jason  25  Singapore     jason@bac.com\n",
       "1  12346      John  55    Jakarta      john@bac.com\n",
       "2  12347  Jennifer  26     Sydney  jennifer@bac.com"
      ]
     },
     "execution_count": 14,
     "metadata": {},
     "output_type": "execute_result"
    }
   ],
   "source": [
    "df = pd.read_sql_query(\"select * from customers;\",con=conn)\n",
    "df"
   ]
  },
  {
   "cell_type": "code",
   "execution_count": 15,
   "metadata": {},
   "outputs": [
    {
     "data": {
      "text/plain": [
       "<sqlite3.Cursor at 0x1ddaaa4f0a0>"
      ]
     },
     "execution_count": 15,
     "metadata": {},
     "output_type": "execute_result"
    }
   ],
   "source": [
    "# adding a column to a table\n",
    "conn.execute(\"alter table customers add country text;\")"
   ]
  },
  {
   "cell_type": "code",
   "execution_count": 16,
   "metadata": {},
   "outputs": [
    {
     "name": "stdout",
     "output_type": "stream",
     "text": [
      "('12345', 'Jason', '25', 'Singapore', 'jason@bac.com', None)\n",
      "('12346', 'John', '55', 'Jakarta', 'john@bac.com', None)\n",
      "('12347', 'Jennifer', '26', 'Sydney', 'jennifer@bac.com', None)\n"
     ]
    }
   ],
   "source": [
    "# explore the existing data\n",
    "cur = conn.cursor()\n",
    "cur.execute(\"select * from customers;\")\n",
    "rows = cur.fetchall()\n",
    "for row in rows:print(row)"
   ]
  },
  {
   "cell_type": "code",
   "execution_count": 17,
   "metadata": {},
   "outputs": [
    {
     "data": {
      "text/html": [
       "<div>\n",
       "<style scoped>\n",
       "    .dataframe tbody tr th:only-of-type {\n",
       "        vertical-align: middle;\n",
       "    }\n",
       "\n",
       "    .dataframe tbody tr th {\n",
       "        vertical-align: top;\n",
       "    }\n",
       "\n",
       "    .dataframe thead th {\n",
       "        text-align: right;\n",
       "    }\n",
       "</style>\n",
       "<table border=\"1\" class=\"dataframe\">\n",
       "  <thead>\n",
       "    <tr style=\"text-align: right;\">\n",
       "      <th></th>\n",
       "      <th>Name</th>\n",
       "      <th>Gender</th>\n",
       "      <th>Age</th>\n",
       "      <th>Current City</th>\n",
       "    </tr>\n",
       "  </thead>\n",
       "  <tbody>\n",
       "    <tr>\n",
       "      <th>0</th>\n",
       "      <td>Anshu</td>\n",
       "      <td>Male</td>\n",
       "      <td>45</td>\n",
       "      <td>DXB</td>\n",
       "    </tr>\n",
       "    <tr>\n",
       "      <th>1</th>\n",
       "      <td>Carlo</td>\n",
       "      <td>Male</td>\n",
       "      <td>25</td>\n",
       "      <td>KUL</td>\n",
       "    </tr>\n",
       "    <tr>\n",
       "      <th>2</th>\n",
       "      <td>Ahmad</td>\n",
       "      <td>Male</td>\n",
       "      <td>22</td>\n",
       "      <td>HXB</td>\n",
       "    </tr>\n",
       "    <tr>\n",
       "      <th>3</th>\n",
       "      <td>Jenny</td>\n",
       "      <td>Female</td>\n",
       "      <td>35</td>\n",
       "      <td>DEL</td>\n",
       "    </tr>\n",
       "    <tr>\n",
       "      <th>4</th>\n",
       "      <td>Jasmine</td>\n",
       "      <td>Female</td>\n",
       "      <td>42</td>\n",
       "      <td>MAA</td>\n",
       "    </tr>\n",
       "    <tr>\n",
       "      <th>5</th>\n",
       "      <td>Jennifer</td>\n",
       "      <td>Female</td>\n",
       "      <td>32</td>\n",
       "      <td>AUH</td>\n",
       "    </tr>\n",
       "  </tbody>\n",
       "</table>\n",
       "</div>"
      ],
      "text/plain": [
       "       Name  Gender  Age Current City\n",
       "0     Anshu    Male   45          DXB\n",
       "1     Carlo    Male   25          KUL\n",
       "2     Ahmad    Male   22          HXB\n",
       "3     Jenny  Female   35          DEL\n",
       "4   Jasmine  Female   42          MAA\n",
       "5  Jennifer  Female   32          AUH"
      ]
     },
     "execution_count": 17,
     "metadata": {},
     "output_type": "execute_result"
    }
   ],
   "source": [
    "# Creating a data frame\n",
    "data = {'Name':['Anshu','Carlo','Ahmad','Jenny','Jasmine','Jennifer'],\n",
    "'Gender':['Male','Male','Male','Female','Female','Female'],\n",
    "'Age':[45,25,22,35,42,32],\n",
    "'Current City':['DXB','KUL','HXB','DEL','MAA','AUH']}\n",
    "\n",
    "df = pd.DataFrame(data)\n",
    "df"
   ]
  },
  {
   "cell_type": "code",
   "execution_count": 18,
   "metadata": {},
   "outputs": [
    {
     "name": "stderr",
     "output_type": "stream",
     "text": [
      "c:\\Users\\admin\\anaconda3\\lib\\site-packages\\pandas\\core\\generic.py:2872: UserWarning: The spaces in these column names will not be changed. In pandas versions < 0.14, spaces were converted to underscores.\n",
      "  sql.to_sql(\n"
     ]
    }
   ],
   "source": [
    "df.to_sql(\"users\",con=conn)"
   ]
  },
  {
   "cell_type": "code",
   "execution_count": 21,
   "metadata": {},
   "outputs": [
    {
     "data": {
      "text/plain": [
       "[('table',\n",
       "  'customers',\n",
       "  'customers',\n",
       "  2,\n",
       "  'CREATE TABLE customers (cid text primary key, name text, age text, city text, email text, country text)'),\n",
       " ('table',\n",
       "  'users',\n",
       "  'users',\n",
       "  4,\n",
       "  'CREATE TABLE \"users\" (\\n\"index\" INTEGER,\\n  \"Name\" TEXT,\\n  \"Gender\" TEXT,\\n  \"Age\" INTEGER,\\n  \"Current City\" TEXT\\n)')]"
      ]
     },
     "execution_count": 21,
     "metadata": {},
     "output_type": "execute_result"
    }
   ],
   "source": [
    "# list of all tables\n",
    "cur.execute(\"select * from sqlite_master where type='table';\")\n",
    "cur.fetchall()\n"
   ]
  },
  {
   "cell_type": "code",
   "execution_count": 22,
   "metadata": {},
   "outputs": [
    {
     "name": "stdout",
     "output_type": "stream",
     "text": [
      "(0, 'Anshu', 'Male', 45, 'DXB')\n",
      "(1, 'Carlo', 'Male', 25, 'KUL')\n",
      "(2, 'Ahmad', 'Male', 22, 'HXB')\n",
      "(3, 'Jenny', 'Female', 35, 'DEL')\n",
      "(4, 'Jasmine', 'Female', 42, 'MAA')\n",
      "(5, 'Jennifer', 'Female', 32, 'AUH')\n"
     ]
    }
   ],
   "source": [
    "# explore the existing data\n",
    "cur = conn.cursor()\n",
    "cur.execute(\"select * from users;\")\n",
    "rows = cur.fetchall()\n",
    "for row in rows:print(row)"
   ]
  },
  {
   "cell_type": "code",
   "execution_count": null,
   "metadata": {},
   "outputs": [],
   "source": []
  }
 ],
 "metadata": {
  "kernelspec": {
   "display_name": "Python 3.9.7 ('base')",
   "language": "python",
   "name": "python3"
  },
  "language_info": {
   "codemirror_mode": {
    "name": "ipython",
    "version": 3
   },
   "file_extension": ".py",
   "mimetype": "text/x-python",
   "name": "python",
   "nbconvert_exporter": "python",
   "pygments_lexer": "ipython3",
   "version": "3.9.7"
  },
  "orig_nbformat": 4,
  "vscode": {
   "interpreter": {
    "hash": "610a6f344c2137faf927ea819c63f6cee33a2c04455044b28099f39fe9722347"
   }
  }
 },
 "nbformat": 4,
 "nbformat_minor": 2
}
