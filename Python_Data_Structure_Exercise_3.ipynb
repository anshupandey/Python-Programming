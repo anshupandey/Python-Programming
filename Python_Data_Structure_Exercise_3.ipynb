{
  "nbformat": 4,
  "nbformat_minor": 0,
  "metadata": {
    "colab": {
      "name": "Python_Data_Structure_Exercise_3.ipynb",
      "provenance": [],
      "collapsed_sections": [],
      "toc_visible": true,
      "include_colab_link": true
    },
    "kernelspec": {
      "display_name": "Python 3",
      "language": "python",
      "name": "python3"
    },
    "language_info": {
      "codemirror_mode": {
        "name": "ipython",
        "version": 3
      },
      "file_extension": ".py",
      "mimetype": "text/x-python",
      "name": "python",
      "nbconvert_exporter": "python",
      "pygments_lexer": "ipython3",
      "version": "3.7.6"
    }
  },
  "cells": [
    {
      "cell_type": "markdown",
      "metadata": {
        "id": "view-in-github",
        "colab_type": "text"
      },
      "source": [
        "<a href=\"https://colab.research.google.com/github/anshupandey/Python-Programming/blob/main/Python_Data_Structure_Exercise_3.ipynb\" target=\"_parent\"><img src=\"https://colab.research.google.com/assets/colab-badge.svg\" alt=\"Open In Colab\"/></a>"
      ]
    },
    {
      "cell_type": "markdown",
      "metadata": {
        "id": "f1TWTGqob4vF",
        "tags": [
          "Python",
          "Assignments",
          "Practice",
          "course",
          "python"
        ]
      },
      "source": [
        " # Python Data Structure Exercises - 3"
      ]
    },
    {
      "cell_type": "markdown",
      "metadata": {
        "id": "whK_2Ayvb4vI",
        "tags": [
          "reverese_number",
          "python_excercise",
          "code",
          "python"
        ]
      },
      "source": [
        "### Excercise 1\n",
        "\n",
        "<b><p> Write code which accepts a number from user and returns the reverse of it.</b>\n",
        "    <br> For example \n",
        "    <li> reverse_number(852) will return 258\n",
        "    <li> reverse_number(6242) will return 2426\n",
        "    <li> reverse_number(81) will return 18"
      ]
    },
    {
      "cell_type": "code",
      "metadata": {
        "id": "dWx0iwNAb4vJ"
      },
      "source": [
        "def reverse_number(num):\n",
        "    # you code goes here --\n",
        "    \n",
        "    \n",
        "    \n",
        "    return reversed\n"
      ],
      "execution_count": null,
      "outputs": []
    },
    {
      "cell_type": "code",
      "metadata": {
        "colab": {
          "base_uri": "https://localhost:8080/",
          "height": 34
        },
        "id": "zbALJDCpPCHE",
        "outputId": "a9499206-7b1c-4321-c35e-8bacee4cc77e"
      },
      "source": [
        "reverse_number(2426)"
      ],
      "execution_count": null,
      "outputs": [
        {
          "data": {
            "text/plain": [
              "6242"
            ]
          },
          "execution_count": 17,
          "metadata": {
            "tags": []
          },
          "output_type": "execute_result"
        }
      ]
    },
    {
      "cell_type": "markdown",
      "metadata": {
        "id": "W8WYSjV3b4vS",
        "tags": [
          "python",
          "excercise"
        ]
      },
      "source": [
        "### Excercise 2\n",
        "\n",
        "<b><p> Write a program that computes the net amount of a bank account based a transaction log from console input. The transaction log format is shown as following: </b>\n",
        "    <br> D 100 \n",
        "    <br> W 200\n",
        "    \n",
        "   For example \n",
        "    \n",
        "    D means deposit while W means withdrawal.\n",
        "    Suppose the following input is supplied to the program:\n",
        "    D 300\n",
        "    D 300\n",
        "    W 200\n",
        "    D 100\n",
        "    Then, the output should be:\n",
        "    500\n",
        "\n",
        "\n",
        "Hints: In case of input data being supplied to the question, it should be assumed to be a console input."
      ]
    },
    {
      "cell_type": "code",
      "metadata": {
        "colab": {
          "base_uri": "https://localhost:8080/",
          "height": 119
        },
        "id": "8ngdJGK3b4vU",
        "outputId": "7b7c1f36-8323-4457-858d-0d2f54072732"
      },
      "source": [
        "count = input(\"Enter the number of transactions: \")\n",
        "\n",
        "\n",
        "\n",
        "\n"
      ],
      "execution_count": null,
      "outputs": [
        {
          "name": "stdout",
          "output_type": "stream",
          "text": [
            "Enter the number of transactions: 2\n",
            "Transaction: D 200\n",
            "200\n",
            "Transaction: W 200\n",
            "200\n",
            "The net amout of the bacnk account: 0.0\n"
          ]
        }
      ]
    },
    {
      "cell_type": "markdown",
      "metadata": {
        "id": "Lhn6hdtAb4vY",
        "tags": [
          "python",
          "text",
          "excercise",
          "Peter",
          "Norvig"
        ]
      },
      "source": [
        "### Excercise 3\n",
        "\n",
        "<b><p> Download the dataset from  </b>\n",
        "\n",
        " http://norvig.com/ngrams/sowpods.txt \n",
        "\n",
        "    In this exercise, the task is to write a function that picks a random word from a list of words from the downloaded dictionary.\n",
        "\n",
        "<br>This file is Peter Norvig’s compilation of the dictionary of words used in professional Scrabble tournaments. Each line in the file contains a single word.\n",
        "\n",
        "    To solve this exercise, you need to do three things:\n",
        "\n",
        "-\tRead all the lists of words\n",
        "-\tGenerate a random number\n",
        "-\tTake that word\n"
      ]
    },
    {
      "cell_type": "code",
      "metadata": {
        "id": "zh0NwwSab4vZ"
      },
      "source": [
        "# import the random library\n",
        "import random\n",
        "import subprocess\n",
        "\n",
        "\n",
        "def get_word():\n",
        "    # you code goes here\n",
        "    \n",
        "    \n",
        "    \n",
        "\n",
        "\n",
        "\n",
        " \n",
        "\n",
        "\n",
        "\n"
      ],
      "execution_count": null,
      "outputs": []
    },
    {
      "cell_type": "code",
      "metadata": {
        "colab": {
          "base_uri": "https://localhost:8080/",
          "height": 283
        },
        "id": "02jaUZt4hvAO",
        "outputId": "b76f16dc-b0df-462c-83fb-7cd794e6c9a2"
      },
      "source": [
        "get_word()"
      ],
      "execution_count": null,
      "outputs": [
        {
          "name": "stdout",
          "output_type": "stream",
          "text": [
            "Random word:  FELICITATE\n"
          ]
        }
      ]
    },
    {
      "cell_type": "markdown",
      "metadata": {
        "id": "WYbmEOIhb4vd",
        "tags": [
          "words",
          "python",
          "code",
          "excercise"
        ]
      },
      "source": [
        "### Excercise 4\n",
        "\n",
        "<br><b>Write a program to compute the frequency of the words from the input. The output should output after sorting the key alphanumerically.</b> \n",
        "\n",
        "<br> Suppose the following input is supplied to the program:<br>\n",
        "<code> “New to Python or choosing between Python 2 and Python 3? Read Python 2 or Python 3.” </code>\n",
        "\n",
        "    Then, the output should be:\n",
        "    2:2\n",
        "    3.:1\n",
        "    3?:1\n",
        "    New:1\n",
        "    Python:5\n",
        "    Read:1\n",
        "    and:1\n",
        "    between:1\n",
        "    choosing:1\n",
        "    or:2\n",
        "    to:1\n",
        "<br><br> \n",
        "Hints: In case of input data being supplied to the question, it should be assumed to be a console input.\n"
      ]
    },
    {
      "cell_type": "code",
      "metadata": {
        "colab": {
          "base_uri": "https://localhost:8080/",
          "height": 255
        },
        "id": "gSqU2xRLb4vf",
        "outputId": "caef1782-a39e-4b30-e0ab-b61808f70a23"
      },
      "source": [
        "import operator\n",
        "\n",
        "text = input(\"Enter your text here: \\n\")\n",
        "# your code goes here\n",
        "\n",
        "\n",
        "\n"
      ],
      "execution_count": null,
      "outputs": [
        {
          "name": "stdout",
          "output_type": "stream",
          "text": [
            "Enter your text here: \n",
            "New to Python or choosing between Python 2 and Python 3? Read Python 2 or Python 3.\n",
            "[('2', 2), ('3.', 1), ('3?', 1), ('New', 1), ('Python', 5), ('Read', 1), ('and', 1), ('between', 1), ('choosing', 1), ('or', 2), ('to', 1)]\n",
            "2: 2\n",
            "3.: 1\n",
            "3?: 1\n",
            "New: 1\n",
            "Python: 5\n",
            "Read: 1\n",
            "and: 1\n",
            "between: 1\n",
            "choosing: 1\n",
            "or: 2\n",
            "to: 1\n"
          ]
        }
      ]
    },
    {
      "cell_type": "markdown",
      "metadata": {
        "id": "Bkx3zUSlb4vj",
        "tags": [
          "regular_expression",
          "python",
          "excercise",
          "code"
        ]
      },
      "source": [
        "### Excercise 5\n",
        "\n",
        "<br><b>A website requires the users to input username and password to register. Write a program to check the validity of password input by users.</b> \n",
        "\n",
        "\n",
        "<br><br>Following are the criteria for checking the password:\n",
        "\n",
        "    a.\tAt least 1 letter between [a-z]\n",
        "    b.\tAt least 1 number between [0-9]\n",
        "    c.\tAt least 1 letter between [A-Z]\n",
        "    d.\tAt least 1 character from [_#@]\n",
        "    e.\tMinimum length of transaction password: 6\n",
        "    f.\tMaximum length of transaction password: 12\n",
        "\n",
        "<br> <p> Your program should accept a sequence of comma separated passwords and will check them according to the above criteria. Passwords that match the criteria are to be printed, each separated by a comma.\n",
        "<br><br>\n",
        "*For Example*\n",
        "<br>If the following passwords are given as input to the program:\n",
        "\n",
        "    ABd1234@1,a F1#,2w3E*,2We3345\n",
        "Then, the output of the program should be:\n",
        "\n",
        "    ABd1234@1\n",
        "\n",
        "<br>Hints: In case of input data being supplied to the question, it should be assumed to be a console input\n",
        "  \n"
      ]
    },
    {
      "cell_type": "code",
      "metadata": {
        "colab": {
          "base_uri": "https://localhost:8080/",
          "height": 51
        },
        "id": "YgE1DnDDb4vl",
        "outputId": "6b6d6c24-2990-4a7d-f023-c922db3bc05d"
      },
      "source": [
        "# Your solution goes here.\n",
        "\n",
        "import re\n",
        "passwords= input(\"Input your password: \")\n",
        "\n",
        "\n",
        "\n",
        "\n",
        "\n"
      ],
      "execution_count": null,
      "outputs": [
        {
          "name": "stdout",
          "output_type": "stream",
          "text": [
            "Input your password: ABd1234@1,a F1#,2w3E*,2We3345\n",
            "ABd1234@1\n"
          ]
        }
      ]
    }
  ]
}