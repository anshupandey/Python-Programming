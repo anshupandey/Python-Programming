{
  "nbformat": 4,
  "nbformat_minor": 0,
  "metadata": {
    "colab": {
      "name": "Python_Data_Structure_Exercise_2.ipynb",
      "provenance": [],
      "collapsed_sections": [],
      "include_colab_link": true
    },
    "kernelspec": {
      "display_name": "Python 3",
      "language": "python",
      "name": "python3"
    },
    "language_info": {
      "codemirror_mode": {
        "name": "ipython",
        "version": 3
      },
      "file_extension": ".py",
      "mimetype": "text/x-python",
      "name": "python",
      "nbconvert_exporter": "python",
      "pygments_lexer": "ipython3",
      "version": "3.6.7"
    }
  },
  "cells": [
    {
      "cell_type": "markdown",
      "metadata": {
        "id": "view-in-github",
        "colab_type": "text"
      },
      "source": [
        "<a href=\"https://colab.research.google.com/github/anshupandey/Python-Programming/blob/main/Python_Data_Structure_Exercise_2.ipynb\" target=\"_parent\"><img src=\"https://colab.research.google.com/assets/colab-badge.svg\" alt=\"Open In Colab\"/></a>"
      ]
    },
    {
      "cell_type": "markdown",
      "metadata": {
        "id": "f1TWTGqob4vF",
        "tags": [
          "Python",
          "Assignments",
          "Practice",
          "course",
          "python"
        ]
      },
      "source": [
        " # Python Data Structure Exercises - 2"
      ]
    },
    {
      "cell_type": "markdown",
      "metadata": {
        "id": "whK_2Ayvb4vI",
        "tags": [
          "reverese_number",
          "python_excercise",
          "code",
          "python"
        ]
      },
      "source": [
        "### Excercise 1\n",
        "\n",
        "<b><p> Write code to generate the fibiniocci series.</b>\n",
        "    <br> \n",
        "  Create a function fib(length) which generates fibiniocci series of a specific lenght.  For example \n",
        "    <li> fib(5) will return [0,1,1,2,3]\n",
        "    <li> fib(8) will return [0,1,1,2,3,5,8,13]\n",
        "    <li> fib(10) will return [0,1,1,2,3,5,8,13,21,34]\n",
        "      <br>you can use [0,1] as known initial values  "
      ]
    },
    {
      "cell_type": "code",
      "metadata": {
        "id": "dWx0iwNAb4vJ"
      },
      "source": [
        "def fib(length):\n",
        "    # you code goes here --\n",
        "   \n",
        "\n",
        "\n",
        "\n",
        "\n",
        "\n",
        "   \n",
        "       \n",
        "    return out\n"
      ],
      "execution_count": null,
      "outputs": []
    },
    {
      "cell_type": "code",
      "metadata": {
        "scrolled": true,
        "id": "r5RQmD2-9nq5",
        "colab": {
          "base_uri": "https://localhost:8080/",
          "height": 34
        },
        "outputId": "03e32137-c1c4-4061-ff06-4c5077f11062"
      },
      "source": [
        "fib(10)"
      ],
      "execution_count": null,
      "outputs": [
        {
          "output_type": "execute_result",
          "data": {
            "text/plain": [
              "[0, 1, 1, 2, 3, 5, 8, 13, 21, 34]"
            ]
          },
          "metadata": {
            "tags": []
          },
          "execution_count": 2
        }
      ]
    },
    {
      "cell_type": "markdown",
      "metadata": {
        "id": "W8WYSjV3b4vS",
        "tags": [
          "python",
          "excercise"
        ]
      },
      "source": [
        "### Excercise 2\n",
        "\n",
        "<b><p> Write a program tp generate password of length 8 which should have a minimum number and one minimum upper case character. The password should be randomly generated </b>\n",
        " \n",
        "Hints: you can use pacakge string >> <br>\n",
        "<code> import string</code><br>\n",
        "<code> string.ascii_lowercase</code><br>\n",
        "<code>string.ascii_uppercase</code>\n"
      ]
    },
    {
      "cell_type": "code",
      "metadata": {
        "id": "8ngdJGK3b4vU"
      },
      "source": [
        "import string\n",
        "from random import randint\n",
        "\n",
        "def getPassword(length):\n",
        "   \n",
        "                                \n",
        "    return password\n"
      ],
      "execution_count": null,
      "outputs": []
    },
    {
      "cell_type": "code",
      "metadata": {
        "id": "YgE1DnDDb4vl",
        "colab": {
          "base_uri": "https://localhost:8080/",
          "height": 34
        },
        "outputId": "6c7a11e8-b8ea-4f40-de4e-09d3d74d75d7"
      },
      "source": [
        "# Your solution goes here.\n",
        "getPassword(10)"
      ],
      "execution_count": null,
      "outputs": [
        {
          "output_type": "execute_result",
          "data": {
            "text/plain": [
              "'6Qgfcxityiq'"
            ]
          },
          "metadata": {
            "tags": []
          },
          "execution_count": 4
        }
      ]
    }
  ]
}