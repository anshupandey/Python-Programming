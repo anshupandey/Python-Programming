{
 "cells": [
  {
   "cell_type": "markdown",
   "id": "b30fb7c1",
   "metadata": {},
   "source": [
    "# Working with sqlite database"
   ]
  },
  {
   "cell_type": "code",
   "execution_count": 1,
   "id": "de1ebf8e",
   "metadata": {},
   "outputs": [],
   "source": [
    "import sqlite3"
   ]
  },
  {
   "cell_type": "code",
   "execution_count": 2,
   "id": "73cb2732",
   "metadata": {},
   "outputs": [],
   "source": [
    "# create a database or connect to existing database\n",
    "conn = sqlite3.connect(\"mydb.db\")"
   ]
  },
  {
   "cell_type": "code",
   "execution_count": 4,
   "id": "d9cd7b95",
   "metadata": {},
   "outputs": [
    {
     "data": {
      "text/plain": [
       "<sqlite3.Cursor at 0x16f5375cb20>"
      ]
     },
     "execution_count": 4,
     "metadata": {},
     "output_type": "execute_result"
    }
   ],
   "source": [
    "# create a table\n",
    "\n",
    "query = \"create table if not exists customers (cid int primary key not null, Name text not null, Age int not null, City text not null);\"\n",
    "conn.execute(query)"
   ]
  },
  {
   "cell_type": "code",
   "execution_count": 5,
   "id": "5fa65b89",
   "metadata": {},
   "outputs": [],
   "source": [
    "# inserting data into the table\n",
    "query = \"insert into customers(cid,Name,Age,City) values(?,?,?,?)\""
   ]
  },
  {
   "cell_type": "code",
   "execution_count": 6,
   "id": "58a2ec5d",
   "metadata": {},
   "outputs": [
    {
     "data": {
      "text/plain": [
       "<sqlite3.Cursor at 0x16f5375cf80>"
      ]
     },
     "execution_count": 6,
     "metadata": {},
     "output_type": "execute_result"
    }
   ],
   "source": [
    "conn.execute(query,(101,\"Anshu\",45,\"Delhi\"))\n",
    "conn.execute(query,(102,\"Max\",37,\"Chennai\"))\n",
    "conn.execute(query,(103,\"Jenny\",25,\"Mumbai\"))"
   ]
  },
  {
   "cell_type": "code",
   "execution_count": 7,
   "id": "b72a3297",
   "metadata": {},
   "outputs": [
    {
     "name": "stdout",
     "output_type": "stream",
     "text": [
      "(101, 'Anshu', 45, 'Delhi')\n",
      "(102, 'Max', 37, 'Chennai')\n",
      "(103, 'Jenny', 25, 'Mumbai')\n"
     ]
    }
   ],
   "source": [
    "# select query = to fetch data\n",
    "query = \"select * from customers\"\n",
    "data= conn.execute(query)\n",
    "for row in data:\n",
    "    print(row)"
   ]
  },
  {
   "cell_type": "code",
   "execution_count": null,
   "id": "4efca15a",
   "metadata": {},
   "outputs": [],
   "source": []
  }
 ],
 "metadata": {
  "kernelspec": {
   "display_name": "Python 3",
   "language": "python",
   "name": "python3"
  },
  "language_info": {
   "codemirror_mode": {
    "name": "ipython",
    "version": 3
   },
   "file_extension": ".py",
   "mimetype": "text/x-python",
   "name": "python",
   "nbconvert_exporter": "python",
   "pygments_lexer": "ipython3",
   "version": "3.8.8"
  }
 },
 "nbformat": 4,
 "nbformat_minor": 5
}
