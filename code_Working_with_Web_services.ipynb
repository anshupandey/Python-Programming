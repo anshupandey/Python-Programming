{
 "cells": [
  {
   "cell_type": "markdown",
   "id": "9ecc4a9e",
   "metadata": {},
   "source": [
    "# Working with web services"
   ]
  },
  {
   "cell_type": "code",
   "execution_count": 2,
   "id": "19e3cd39",
   "metadata": {},
   "outputs": [],
   "source": [
    "import requests"
   ]
  },
  {
   "cell_type": "code",
   "execution_count": 3,
   "id": "4f0aed90",
   "metadata": {},
   "outputs": [],
   "source": [
    "url = \"https://api.zippopotam.us/us/\"\n",
    "zipcode = 95219"
   ]
  },
  {
   "cell_type": "code",
   "execution_count": 4,
   "id": "bd7f47aa",
   "metadata": {},
   "outputs": [],
   "source": [
    "# Working with GET Request\n",
    "response = requests.get(url+str(zipcode))"
   ]
  },
  {
   "cell_type": "code",
   "execution_count": 5,
   "id": "f8f833fa",
   "metadata": {},
   "outputs": [
    {
     "data": {
      "text/plain": [
       "b'{\"post code\": \"95219\", \"country\": \"United States\", \"country abbreviation\": \"US\", \"places\": [{\"place name\": \"Stockton\", \"longitude\": \"-121.3698\", \"state\": \"California\", \"state abbreviation\": \"CA\", \"latitude\": \"38.01\"}]}'"
      ]
     },
     "execution_count": 5,
     "metadata": {},
     "output_type": "execute_result"
    }
   ],
   "source": [
    "response.content"
   ]
  },
  {
   "cell_type": "code",
   "execution_count": 9,
   "id": "8b933784",
   "metadata": {},
   "outputs": [],
   "source": [
    "output = response.content.decode() # converting bytes to string\n",
    "import json\n",
    "output = json.loads(output) # to convert string to python dictionary"
   ]
  },
  {
   "cell_type": "code",
   "execution_count": 10,
   "id": "d479ac39",
   "metadata": {},
   "outputs": [
    {
     "data": {
      "text/plain": [
       "{'post code': '95219',\n",
       " 'country': 'United States',\n",
       " 'country abbreviation': 'US',\n",
       " 'places': [{'place name': 'Stockton',\n",
       "   'longitude': '-121.3698',\n",
       "   'state': 'California',\n",
       "   'state abbreviation': 'CA',\n",
       "   'latitude': '38.01'}]}"
      ]
     },
     "execution_count": 10,
     "metadata": {},
     "output_type": "execute_result"
    }
   ],
   "source": [
    "output"
   ]
  },
  {
   "cell_type": "code",
   "execution_count": 11,
   "id": "2abdaa90",
   "metadata": {},
   "outputs": [
    {
     "name": "stdout",
     "output_type": "stream",
     "text": [
      "post code 95219\n",
      "country United States\n",
      "country abbreviation US\n",
      "places [{'place name': 'Stockton', 'longitude': '-121.3698', 'state': 'California', 'state abbreviation': 'CA', 'latitude': '38.01'}]\n"
     ]
    }
   ],
   "source": [
    "for k,v in output.items():\n",
    "    print(k,v)"
   ]
  },
  {
   "cell_type": "markdown",
   "id": "f6f597ca",
   "metadata": {},
   "source": [
    " ## GET request"
   ]
  },
  {
   "cell_type": "code",
   "execution_count": 13,
   "id": "bf2f661b",
   "metadata": {},
   "outputs": [
    {
     "data": {
      "text/plain": [
       "{'userId': 1, 'id': 1, 'title': 'delectus aut autem', 'completed': False}"
      ]
     },
     "execution_count": 13,
     "metadata": {},
     "output_type": "execute_result"
    }
   ],
   "source": [
    "import requests\n",
    "url = \"https://jsonplaceholder.typicode.com/todos/1\"\n",
    "response = requests.get(url)\n",
    "response.json()"
   ]
  },
  {
   "cell_type": "markdown",
   "id": "b2930e2e",
   "metadata": {},
   "source": [
    "## POST request"
   ]
  },
  {
   "cell_type": "code",
   "execution_count": 19,
   "id": "93f35c89",
   "metadata": {},
   "outputs": [
    {
     "data": {
      "text/plain": [
       "{'userId': 1, 'id': 201, 'title': 'Python is Amazing', 'completed': False}"
      ]
     },
     "execution_count": 19,
     "metadata": {},
     "output_type": "execute_result"
    }
   ],
   "source": [
    "import requests\n",
    "url = \"https://jsonplaceholder.typicode.com/todos\"\n",
    "data = {'userId': 1, 'id': 1, 'title': 'Python is Amazing', 'completed': False}\n",
    "\n",
    "data = json.dumps(data)\n",
    "headers = {'Content-Type':\"application/json\"}\n",
    "response = requests.post(url,data=data,headers=headers)\n",
    "response.json()"
   ]
  },
  {
   "cell_type": "code",
   "execution_count": 20,
   "id": "fdcbfc70",
   "metadata": {},
   "outputs": [
    {
     "data": {
      "text/plain": [
       "201"
      ]
     },
     "execution_count": 20,
     "metadata": {},
     "output_type": "execute_result"
    }
   ],
   "source": [
    "response.status_code"
   ]
  },
  {
   "cell_type": "code",
   "execution_count": null,
   "id": "dfc4f66e",
   "metadata": {},
   "outputs": [],
   "source": []
  }
 ],
 "metadata": {
  "kernelspec": {
   "display_name": "Python 3",
   "language": "python",
   "name": "python3"
  },
  "language_info": {
   "codemirror_mode": {
    "name": "ipython",
    "version": 3
   },
   "file_extension": ".py",
   "mimetype": "text/x-python",
   "name": "python",
   "nbconvert_exporter": "python",
   "pygments_lexer": "ipython3",
   "version": "3.8.8"
  }
 },
 "nbformat": 4,
 "nbformat_minor": 5
}
