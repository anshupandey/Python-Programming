{
 "cells": [
  {
   "cell_type": "markdown",
   "id": "ef91b693",
   "metadata": {},
   "source": [
    "# OS Module"
   ]
  },
  {
   "cell_type": "code",
   "execution_count": 1,
   "id": "5f5eca7d",
   "metadata": {},
   "outputs": [],
   "source": [
    "import os"
   ]
  },
  {
   "cell_type": "code",
   "execution_count": 2,
   "id": "9fd489c5",
   "metadata": {},
   "outputs": [
    {
     "data": {
      "text/plain": [
       "'d:\\\\python\\\\Qualcomm_b1'"
      ]
     },
     "execution_count": 2,
     "metadata": {},
     "output_type": "execute_result"
    }
   ],
   "source": [
    "# get the current working directory\n",
    "os.getcwd()"
   ]
  },
  {
   "cell_type": "code",
   "execution_count": 5,
   "id": "00de53d4",
   "metadata": {},
   "outputs": [],
   "source": [
    "# change the current working directory\n",
    "os.chdir('d:\\\\python\\\\Qualcomm_b1\\\\mycodes')"
   ]
  },
  {
   "cell_type": "code",
   "execution_count": 6,
   "id": "e3e761f9",
   "metadata": {},
   "outputs": [
    {
     "data": {
      "text/plain": [
       "'d:\\\\python\\\\Qualcomm_b1\\\\mycodes'"
      ]
     },
     "execution_count": 6,
     "metadata": {},
     "output_type": "execute_result"
    }
   ],
   "source": [
    "# get the current working directory\n",
    "os.getcwd()"
   ]
  },
  {
   "cell_type": "code",
   "execution_count": 7,
   "id": "f003444d",
   "metadata": {
    "collapsed": true
   },
   "outputs": [
    {
     "data": {
      "text/plain": [
       "['.ipynb_checkpoints',\n",
       " 'code10_Regular_Expressions_python.ipynb',\n",
       " 'code11_python_misc_modules.ipynb',\n",
       " 'code5_python_OOPs.py',\n",
       " 'code6_modules_python.py',\n",
       " 'code7_file_handling_pandas.py',\n",
       " 'code8_jupyter_intro.ipynb',\n",
       " 'code9_Error_handling_with_Python.ipynb',\n",
       " 'coviddata.xlsx',\n",
       " 'mycodes',\n",
       " 'myfile.txt',\n",
       " 'october.py',\n",
       " 'qualcomm_25-29-oct_Batch1_Day1&Day2',\n",
       " 'qualcomm_25-29-oct_Batch1_Day1&Day2.zip',\n",
       " '__pycache__']"
      ]
     },
     "execution_count": 7,
     "metadata": {},
     "output_type": "execute_result"
    }
   ],
   "source": [
    "# get the list of files from a directory\n",
    "os.listdir('d:\\\\python\\\\Qualcomm_b1')"
   ]
  },
  {
   "cell_type": "code",
   "execution_count": 8,
   "id": "0d8efa12",
   "metadata": {},
   "outputs": [
    {
     "data": {
      "text/plain": [
       "'coviddata.xlsx'"
      ]
     },
     "execution_count": 8,
     "metadata": {},
     "output_type": "execute_result"
    }
   ],
   "source": [
    "# getting basename of a file\n",
    "out = os.path.basename(r\"D:\\python\\Qualcomm_b1\\coviddata.xlsx\")\n",
    "out"
   ]
  },
  {
   "cell_type": "code",
   "execution_count": 9,
   "id": "5684c7ff",
   "metadata": {},
   "outputs": [
    {
     "data": {
      "text/plain": [
       "'D:\\\\python\\\\Qualcomm_b1'"
      ]
     },
     "execution_count": 9,
     "metadata": {},
     "output_type": "execute_result"
    }
   ],
   "source": [
    "# getting the directory name\n",
    "out = os.path.dirname(r\"D:\\python\\Qualcomm_b1\\coviddata.xlsx\")\n",
    "out"
   ]
  },
  {
   "cell_type": "code",
   "execution_count": 10,
   "id": "56af9f84",
   "metadata": {},
   "outputs": [
    {
     "data": {
      "text/plain": [
       "True"
      ]
     },
     "execution_count": 10,
     "metadata": {},
     "output_type": "execute_result"
    }
   ],
   "source": [
    "# check whether a path is existing or not\n",
    "os.path.isdir('D:\\\\python\\\\Qualcomm_b1')"
   ]
  },
  {
   "cell_type": "code",
   "execution_count": 11,
   "id": "25cd5287",
   "metadata": {},
   "outputs": [
    {
     "data": {
      "text/plain": [
       "False"
      ]
     },
     "execution_count": 11,
     "metadata": {},
     "output_type": "execute_result"
    }
   ],
   "source": [
    "os.path.isdir('D:\\\\python\\\\Qualcomm_b1\\\\anshu')"
   ]
  },
  {
   "cell_type": "markdown",
   "id": "a92c52e0",
   "metadata": {},
   "source": [
    "# Glob Module"
   ]
  },
  {
   "cell_type": "code",
   "execution_count": 18,
   "id": "79db30c6",
   "metadata": {},
   "outputs": [],
   "source": [
    "# change the current working directory\n",
    "os.chdir('d:\\\\python\\\\Qualcomm_b1')"
   ]
  },
  {
   "cell_type": "code",
   "execution_count": 19,
   "id": "a4e24d3b",
   "metadata": {},
   "outputs": [],
   "source": [
    "import glob"
   ]
  },
  {
   "cell_type": "code",
   "execution_count": 20,
   "id": "e2ef6955",
   "metadata": {
    "scrolled": true
   },
   "outputs": [
    {
     "name": "stdout",
     "output_type": "stream",
     "text": [
      "D:\\python\\Qualcomm_b1\\code5_python_OOPs.py\n",
      "D:\\python\\Qualcomm_b1\\code6_modules_python.py\n",
      "D:\\python\\Qualcomm_b1\\code7_file_handling_pandas.py\n",
      "D:\\python\\Qualcomm_b1\\october.py\n"
     ]
    }
   ],
   "source": [
    "# gettng the list of .py files from the current working directory\n",
    "myfilelist =glob.glob('D:\\\\python\\\\Qualcomm_b1\\\\*.py') \n",
    "for file in myfilelist:\n",
    "    print(file)"
   ]
  },
  {
   "cell_type": "code",
   "execution_count": 27,
   "id": "a64d12ec",
   "metadata": {},
   "outputs": [
    {
     "name": "stdout",
     "output_type": "stream",
     "text": [
      "mycode.txt\n",
      "myfile.txt\n"
     ]
    }
   ],
   "source": [
    "# gettng the list of .txt files with filename size of 6\n",
    "myfilelist =glob.glob('??????.txt') \n",
    "for file in myfilelist:\n",
    "    print(file)"
   ]
  },
  {
   "cell_type": "code",
   "execution_count": 31,
   "id": "67602d39",
   "metadata": {},
   "outputs": [
    {
     "name": "stdout",
     "output_type": "stream",
     "text": [
      "D:\\python\\Qualcomm_b1\\code5_python_OOPs.py\n",
      "D:\\python\\Qualcomm_b1\\code6_modules_python.py\n",
      "D:\\python\\Qualcomm_b1\\code7_file_handling_pandas.py\n",
      "D:\\python\\Qualcomm_b1\\october.py\n",
      "D:\\python\\Qualcomm_b1\\qualcomm_25-29-oct_Batch1_Day1&Day2\\code1_python_getting_started.py\n",
      "D:\\python\\Qualcomm_b1\\qualcomm_25-29-oct_Batch1_Day1&Day2\\code2_input_function.py\n",
      "D:\\python\\Qualcomm_b1\\qualcomm_25-29-oct_Batch1_Day1&Day2\\code3_control_Flow_structure.py\n",
      "D:\\python\\Qualcomm_b1\\qualcomm_25-29-oct_Batch1_Day1&Day2\\code4_functions_in_python.py\n"
     ]
    }
   ],
   "source": [
    "# gettng the list of .py files from the current working directory and the subdirectories\n",
    "myfilelist =glob.glob('D:\\\\python\\\\Qualcomm_b1\\\\**\\\\*.py',recursive=True) \n",
    "for file in myfilelist:\n",
    "    print(file)"
   ]
  },
  {
   "cell_type": "code",
   "execution_count": 32,
   "id": "0c59741f",
   "metadata": {},
   "outputs": [
    {
     "name": "stdout",
     "output_type": "stream",
     "text": [
      "code5_python_OOPs.py\n",
      "code6_modules_python.py\n",
      "code7_file_handling_pandas.py\n"
     ]
    }
   ],
   "source": [
    "# gettng the list of .py files starting with code\n",
    "myfilelist =glob.glob('code[0-9]*.py') \n",
    "for file in myfilelist:\n",
    "    print(file)"
   ]
  },
  {
   "cell_type": "markdown",
   "id": "604e4c3c",
   "metadata": {},
   "source": [
    "# zipfile module"
   ]
  },
  {
   "cell_type": "code",
   "execution_count": 33,
   "id": "9a2c76f1",
   "metadata": {},
   "outputs": [],
   "source": [
    "import zipfile"
   ]
  },
  {
   "cell_type": "markdown",
   "id": "de1683af",
   "metadata": {},
   "source": [
    "### Create zip archives"
   ]
  },
  {
   "cell_type": "code",
   "execution_count": 37,
   "id": "4516cadd",
   "metadata": {},
   "outputs": [
    {
     "data": {
      "text/plain": [
       "['code1_python_getting_started.py',\n",
       " 'code2_input_function.py',\n",
       " 'code3_control_Flow_structure.py',\n",
       " 'code4_functions_in_python.py']"
      ]
     },
     "execution_count": 37,
     "metadata": {},
     "output_type": "execute_result"
    }
   ],
   "source": [
    "path = r\"D:\\python\\Qualcomm_b1\\qualcomm_25-29-oct_Batch1_Day1&Day2\"\n",
    "myfiles = os.listdir(path)\n",
    "myfiles"
   ]
  },
  {
   "cell_type": "code",
   "execution_count": 40,
   "id": "a413d90c",
   "metadata": {},
   "outputs": [],
   "source": [
    "zf = zipfile.ZipFile(\"Day1&Day2codes.zip\",mode=\"w\",compression=zipfile.ZIP_DEFLATED)\n",
    "for file in myfiles:\n",
    "    zf.write(path + \"\\\\\"+file)\n",
    "zf.close()"
   ]
  },
  {
   "cell_type": "markdown",
   "id": "a4d46622",
   "metadata": {},
   "source": [
    "### Extracting data from zipfile"
   ]
  },
  {
   "cell_type": "code",
   "execution_count": 42,
   "id": "037f124c",
   "metadata": {},
   "outputs": [
    {
     "name": "stdout",
     "output_type": "stream",
     "text": [
      "['python/Qualcomm_b1/qualcomm_25-29-oct_Batch1_Day1&Day2/code1_python_getting_started.py', 'python/Qualcomm_b1/qualcomm_25-29-oct_Batch1_Day1&Day2/code2_input_function.py', 'python/Qualcomm_b1/qualcomm_25-29-oct_Batch1_Day1&Day2/code3_control_Flow_structure.py', 'python/Qualcomm_b1/qualcomm_25-29-oct_Batch1_Day1&Day2/code4_functions_in_python.py']\n"
     ]
    }
   ],
   "source": [
    "### checking files from a zip file\n",
    "zf = zipfile.ZipFile(\"Day1&Day2codes.zip\",mode=\"r\")\n",
    "print(zf.namelist())\n",
    "zf.close()"
   ]
  },
  {
   "cell_type": "code",
   "execution_count": 43,
   "id": "2f40194b",
   "metadata": {},
   "outputs": [],
   "source": [
    "### Extracting files from a zip file\n",
    "zf = zipfile.ZipFile(\"Day1&Day2codes.zip\",mode=\"r\")\n",
    "zf.extractall(\"mycodes\")\n",
    "zf.close()"
   ]
  },
  {
   "cell_type": "markdown",
   "id": "d8a76fce",
   "metadata": {},
   "source": [
    "# tarfile module"
   ]
  },
  {
   "cell_type": "code",
   "execution_count": 44,
   "id": "af18af40",
   "metadata": {},
   "outputs": [],
   "source": [
    "import tarfile"
   ]
  },
  {
   "cell_type": "markdown",
   "id": "71074bf3",
   "metadata": {},
   "source": [
    "### Create tar archives"
   ]
  },
  {
   "cell_type": "code",
   "execution_count": 45,
   "id": "5d329eff",
   "metadata": {},
   "outputs": [
    {
     "data": {
      "text/plain": [
       "['code1_python_getting_started.py',\n",
       " 'code2_input_function.py',\n",
       " 'code3_control_Flow_structure.py',\n",
       " 'code4_functions_in_python.py']"
      ]
     },
     "execution_count": 45,
     "metadata": {},
     "output_type": "execute_result"
    }
   ],
   "source": [
    "path = r\"D:\\python\\Qualcomm_b1\\qualcomm_25-29-oct_Batch1_Day1&Day2\"\n",
    "myfiles = os.listdir(path)\n",
    "myfiles"
   ]
  },
  {
   "cell_type": "code",
   "execution_count": 46,
   "id": "fae9b6e9",
   "metadata": {},
   "outputs": [],
   "source": [
    "tar = tarfile.open(\"Day1&Day2codes.tar.gz\",mode=\"w\")\n",
    "for file in myfiles:\n",
    "    tar.add(path + \"\\\\\"+file)\n",
    "tar.close()"
   ]
  },
  {
   "cell_type": "markdown",
   "id": "bd9d974d",
   "metadata": {},
   "source": [
    "### Extracting data from tarfile"
   ]
  },
  {
   "cell_type": "code",
   "execution_count": 47,
   "id": "69aa3669",
   "metadata": {},
   "outputs": [
    {
     "name": "stdout",
     "output_type": "stream",
     "text": [
      "python/Qualcomm_b1/qualcomm_25-29-oct_Batch1_Day1&Day2/code1_python_getting_started.py\n",
      "python/Qualcomm_b1/qualcomm_25-29-oct_Batch1_Day1&Day2/code2_input_function.py\n",
      "python/Qualcomm_b1/qualcomm_25-29-oct_Batch1_Day1&Day2/code3_control_Flow_structure.py\n",
      "python/Qualcomm_b1/qualcomm_25-29-oct_Batch1_Day1&Day2/code4_functions_in_python.py\n"
     ]
    }
   ],
   "source": [
    "### checking files from a tar file\n",
    "tar = tarfile.open(\"Day1&Day2codes.tar.gz\",mode=\"r\")\n",
    "for file in tar.getmembers():\n",
    "    print(file.name)"
   ]
  },
  {
   "cell_type": "code",
   "execution_count": 50,
   "id": "b3c469b7",
   "metadata": {},
   "outputs": [],
   "source": [
    "### Extracting files from a zip file\n",
    "tar = tarfile.open(\"Day1&Day2codes.tar.gz\",mode=\"r\")\n",
    "tar.extractall(\"mycodes\",members=tar.getmembers())\n",
    "tar.close()"
   ]
  },
  {
   "cell_type": "code",
   "execution_count": null,
   "id": "b06ed78b",
   "metadata": {},
   "outputs": [],
   "source": []
  }
 ],
 "metadata": {
  "kernelspec": {
   "display_name": "Python 3",
   "language": "python",
   "name": "python3"
  },
  "language_info": {
   "codemirror_mode": {
    "name": "ipython",
    "version": 3
   },
   "file_extension": ".py",
   "mimetype": "text/x-python",
   "name": "python",
   "nbconvert_exporter": "python",
   "pygments_lexer": "ipython3",
   "version": "3.8.8"
  }
 },
 "nbformat": 4,
 "nbformat_minor": 5
}
