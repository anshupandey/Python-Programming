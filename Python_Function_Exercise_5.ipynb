{
 "cells": [
  {
   "cell_type": "markdown",
   "metadata": {
    "colab_type": "text",
    "id": "view-in-github"
   },
   "source": [
    "<a href=\"https://colab.research.google.com/github/anshupandey/Python-Programming/blob/main/Python_Function_Exercise_5.ipynb\" target=\"_parent\"><img src=\"https://colab.research.google.com/assets/colab-badge.svg\" alt=\"Open In Colab\"/></a>"
   ]
  },
  {
   "cell_type": "markdown",
   "metadata": {
    "id": "f1TWTGqob4vF",
    "tags": [
     "Python",
     "Assignments",
     "Practice",
     "course",
     "python"
    ]
   },
   "source": [
    "# Python Function Exercises -5"
   ]
  },
  {
   "cell_type": "markdown",
   "metadata": {
    "id": "whK_2Ayvb4vI",
    "tags": [
     "reverese_number",
     "python_excercise",
     "code",
     "python"
    ]
   },
   "source": [
    "### Excercise 1\n",
    "\n",
    "\n",
    "<b><p> Write a Python function that accepts a hyphen-separated sequence of words as input and prints the words in a hyphen-separated sequence after sorting them alphabetically.</b>\n",
    "    <br> For example \n",
    "    <li> Sample Items : green-red-yellow-black-white\n",
    "    <li> Expected Result : black-green-red-white-yellow"
   ]
  },
  {
   "cell_type": "code",
   "execution_count": null,
   "metadata": {
    "id": "dWx0iwNAb4vJ"
   },
   "outputs": [],
   "source": [
    "\n",
    "\n",
    "\n"
   ]
  },
  {
   "cell_type": "code",
   "execution_count": null,
   "metadata": {
    "colab": {
     "base_uri": "https://localhost:8080/",
     "height": 34
    },
    "id": "zbALJDCpPCHE",
    "outputId": "a9499206-7b1c-4321-c35e-8bacee4cc77e"
   },
   "outputs": [
    {
     "data": {
      "text/plain": [
       "6242"
      ]
     },
     "execution_count": 17,
     "metadata": {
      "tags": []
     },
     "output_type": "execute_result"
    }
   ],
   "source": []
  },
  {
   "cell_type": "markdown",
   "metadata": {
    "id": "W8WYSjV3b4vS",
    "tags": [
     "python",
     "excercise"
    ]
   },
   "source": [
    "### Excercise 2\n",
    "\n",
    "<b> Write a function which will find all such numbers which are divisible by 7 but are not a multiple of 5,\n",
    "between 2000 and 3200 (both included).</b>\n",
    "\n",
    "The numbers obtained should be printed in a comma-separated sequence on a single line.\n",
    "\n",
    "Hints: \n",
    "Consider use range(#begin, #end) method"
   ]
  },
  {
   "cell_type": "code",
   "execution_count": null,
   "metadata": {
    "id": "8ngdJGK3b4vU"
   },
   "outputs": [],
   "source": []
  },
  {
   "cell_type": "markdown",
   "metadata": {
    "id": "Lhn6hdtAb4vY",
    "tags": [
     "python",
     "text",
     "excercise",
     "Peter",
     "Norvig"
    ]
   },
   "source": [
    "### Excercise 3\n",
    "**Write a recursive function to calculate the sum of numbers from 0 to 10**"
   ]
  },
  {
   "cell_type": "code",
   "execution_count": null,
   "metadata": {
    "id": "zh0NwwSab4vZ"
   },
   "outputs": [],
   "source": []
  },
  {
   "cell_type": "code",
   "execution_count": null,
   "metadata": {
    "id": "02jaUZt4hvAO"
   },
   "outputs": [],
   "source": []
  },
  {
   "cell_type": "markdown",
   "metadata": {
    "id": "WYbmEOIhb4vd",
    "tags": [
     "words",
     "python",
     "code",
     "excercise"
    ]
   },
   "source": [
    "### Excercise 4\n",
    "\n",
    "**Write a function for checking the speed of drivers. This function should have one parameter: speed.**\n",
    "*  If speed is less than 70, it should print “Ok”.\n",
    "Otherwise, for every 5km above the speed limit (70), it should give the driver one demerit point and print the total number of demerit points. \n",
    "\n",
    "For example, \n",
    "*  if the speed is 80, it should print: “Points: 2”.\n",
    "*  If the driver gets more than 12 points, the function should print: “License suspended”"
   ]
  },
  {
   "cell_type": "code",
   "execution_count": null,
   "metadata": {
    "id": "gSqU2xRLb4vf"
   },
   "outputs": [],
   "source": []
  },
  {
   "cell_type": "markdown",
   "metadata": {
    "id": "Bkx3zUSlb4vj",
    "tags": [
     "regular_expression",
     "python",
     "excercise",
     "code"
    ]
   },
   "source": [
    "### Excercise 5\n",
    "<b>\n",
    "Write a program which takes 2 digits, X,Y as input and generates a 2-dimensional array. The element value in the i-th row and j-th column of the array should be i*j.</b>\n",
    "\n",
    "\n",
    "Note: i=0,1.., X-1; j=0,1,¡­Y-1.\n",
    "Example\n",
    "Suppose the following inputs are given to the program:\n",
    "3,5\n",
    "\n",
    "> 3,5\n",
    "\n",
    "\n",
    "Then, the output of the program should be:\n",
    "> [[0, 0, 0, 0, 0], [0, 1, 2, 3, 4], [0, 2, 4, 6, 8]] \n"
   ]
  },
  {
   "cell_type": "code",
   "execution_count": null,
   "metadata": {
    "id": "YgE1DnDDb4vl"
   },
   "outputs": [],
   "source": []
  },
  {
   "cell_type": "code",
   "execution_count": null,
   "metadata": {
    "id": "o4HH_WaOdCzT"
   },
   "outputs": [],
   "source": []
  },
  {
   "cell_type": "markdown",
   "metadata": {
    "id": "1vVPyjPFdDN8"
   },
   "source": [
    "### Excercise 6\n",
    "\n",
    "**Describe a recursive algorithm for finding the maximum element in a sequence S, of n elements.**"
   ]
  },
  {
   "cell_type": "code",
   "execution_count": null,
   "metadata": {
    "id": "Eof3MQu_dP5y"
   },
   "outputs": [],
   "source": []
  },
  {
   "cell_type": "code",
   "execution_count": null,
   "metadata": {
    "id": "dPEATcMZdQYu"
   },
   "outputs": [],
   "source": []
  },
  {
   "cell_type": "markdown",
   "metadata": {
    "id": "VR6vkln_dRCD"
   },
   "source": [
    "### Excercise 7\n",
    "\n",
    "**Use recursion to write a Python function for determining if a string s has more vowels than consonants. \n",
    "Modify the function so that it should also return the number of vowels and consonants**"
   ]
  },
  {
   "cell_type": "code",
   "execution_count": null,
   "metadata": {
    "id": "6knPKcNWdn2f"
   },
   "outputs": [],
   "source": []
  },
  {
   "cell_type": "code",
   "execution_count": null,
   "metadata": {
    "id": "hoVueatVdoeE"
   },
   "outputs": [],
   "source": []
  },
  {
   "cell_type": "markdown",
   "metadata": {
    "id": "IXDg9mKAdo8P"
   },
   "source": [
    "### Excercise 8\n",
    "\n",
    "**Write a function with name ngram, which accepts a string and value of n. FOr any given value of n, it should return sequential combination of n letters.**\n",
    "\n",
    "\n",
    "\n",
    "```\n",
    "ngram(\"hello\",n=1) should return ['h','e','l','l','o']\n",
    "ngram(\"hello\",n=2) should return ['he','el','ll','lo']\n",
    "ngram(\"hello\",n=3) should return ['hel','ell','llo']\n",
    "\n",
    "```\n",
    "**write another function ngram_words which can return a list of n grams as shown below.**\n",
    "```\n",
    "ngram_words(\"hello world with python how are you\",n=1) should return ['hello','world','with','python','how',....]\n",
    "ngram_words(\"hello world with python how are you\",n=2) should return ['hello world','world with','with python',...]\n",
    "ngram_words(\"hello world with python how are you\",n=3) should return ['hello world with','world with python',....]\n",
    "\n",
    "```\n",
    "\n"
   ]
  },
  {
   "cell_type": "code",
   "execution_count": null,
   "metadata": {
    "id": "oY8i2LfLeQZx"
   },
   "outputs": [],
   "source": []
  },
  {
   "cell_type": "code",
   "execution_count": null,
   "metadata": {
    "id": "hToD_mnkeRWK"
   },
   "outputs": [],
   "source": []
  },
  {
   "cell_type": "markdown",
   "metadata": {
    "id": "M2iuBr9peRuH"
   },
   "source": [
    "### Excercise 9\n",
    "\n",
    "**Given a list of 5 positive words and negative words. Write a function which can score the input string and given the overall sentiment.**\n",
    "\n",
    "\n",
    "\n",
    "```\n",
    "positive = ['good','amazing','awesome','happy','great']\n",
    "negative = ['bad','worst','dislike','hate','poor']\n",
    "\n",
    "\n",
    "```\n",
    "\n"
   ]
  },
  {
   "cell_type": "code",
   "execution_count": null,
   "metadata": {
    "id": "Sv5hglMfereP"
   },
   "outputs": [],
   "source": []
  },
  {
   "cell_type": "code",
   "execution_count": null,
   "metadata": {
    "id": "v08ZnuJ9esK3"
   },
   "outputs": [],
   "source": []
  },
  {
   "cell_type": "markdown",
   "metadata": {
    "id": "ZJRjMxgPessJ"
   },
   "source": [
    "### Excercise 10\n",
    "\n",
    "\n",
    "**Generate histograms using \"x\".\n",
    "Write a function which can accept a list of values, based on magnitude each value, it should generate a horizontal histplot.**\n",
    "\n",
    "For example - \n",
    "\n",
    ">  plothist([3,5,4,6])\n",
    "\n",
    ">  it should print in the following way - \n",
    ">  \n",
    ">  xxx\n",
    "\n",
    ">  xxxxx\n",
    "\n",
    ">  xxxx\n",
    "\n",
    ">  xxxxxx"
   ]
  },
  {
   "cell_type": "code",
   "execution_count": null,
   "metadata": {
    "id": "5Hy3Nbmde8Uu"
   },
   "outputs": [],
   "source": []
  },
  {
   "cell_type": "code",
   "execution_count": null,
   "metadata": {
    "id": "TZ7q4gbie87U"
   },
   "outputs": [],
   "source": []
  }
 ],
 "metadata": {
  "colab": {
   "collapsed_sections": [],
   "include_colab_link": true,
   "name": "Python_Function_Exercise_5.ipynb",
   "provenance": []
  },
  "kernelspec": {
   "display_name": "Python 3",
   "language": "python",
   "name": "python3"
  },
  "language_info": {
   "codemirror_mode": {
    "name": "ipython",
    "version": 3
   },
   "file_extension": ".py",
   "mimetype": "text/x-python",
   "name": "python",
   "nbconvert_exporter": "python",
   "pygments_lexer": "ipython3",
   "version": "3.8.8"
  }
 },
 "nbformat": 4,
 "nbformat_minor": 1
}
